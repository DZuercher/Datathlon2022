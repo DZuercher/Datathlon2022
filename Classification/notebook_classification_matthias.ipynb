{
 "cells": [
  {
   "cell_type": "code",
   "execution_count": 51,
   "metadata": {},
   "outputs": [],
   "source": [
    "import numpy as np\n",
    "import pandas as pd\n",
    "import matplotlib.pyplot as plt\n",
    "import matplotlib as mpl\n",
    "import seaborn as sns\n",
    "\n",
    "plt.style.use(\"ggplot\")\n",
    "\n",
    "pd.set_option('display.max_columns', None)"
   ]
  },
  {
   "cell_type": "code",
   "execution_count": 52,
   "metadata": {},
   "outputs": [],
   "source": [
    "df=pd.read_csv(\"../raw_data/trainset_full.csv\", low_memory=False)"
   ]
  },
  {
   "cell_type": "code",
   "execution_count": 53,
   "metadata": {},
   "outputs": [],
   "source": [
    "df[\"Error\"]=df.error_category != \"NO_ERROR\"\n",
    "X_train=df[['index', 'turbine_id', 'measured_at', 'wind_speed', 'power',\n",
    "       'nacelle_direction', 'wind_direction', 'rotor_speed', 'generator_speed',\n",
    "       'temp_environment', 'temp_hydraulic_oil', 'temp_gear_bearing', 'cosphi',\n",
    "       'blade_angle_avg', 'hydraulic_pressure', 'park_id']]\n",
    "y_train=df.Error\n",
    "y_train_full=df.error_category"
   ]
  },
  {
   "cell_type": "code",
   "execution_count": 70,
   "metadata": {},
   "outputs": [],
   "source": [
    "import datetime as dt\n",
    "X_train[\"measured_at\"]=pd.to_datetime(X_train.measured_at) \n",
    "X_train[\"month\"]=X_train.measured_at.dt.month\n",
    "df[\"measured_at\"]=pd.to_datetime(df.measured_at) \n",
    "df[\"month\"]=df.measured_at.dt.month\n",
    "df[\"bimonth\"]=df.month// 2 \n",
    "X_train[\"bimonth\"]=X_train.month // 2 \n",
    "X_train[\"bimonthpark\"]= str(X_train.bimonth)+\":\"+str(X_train.park_id)\n",
    "df[\"bimonthpark\"]= str(X_train.bimonth)+\":\"+str(X_train.park_id)\n",
    "X_train[\"Error\"]=df.Error"
   ]
  },
  {
   "cell_type": "code",
   "execution_count": null,
   "metadata": {},
   "outputs": [],
   "source": []
  },
  {
   "cell_type": "code",
   "execution_count": 185,
   "metadata": {},
   "outputs": [
    {
     "data": {
      "text/plain": [
       "Index(['index', 'turbine_id', 'measured_at', 'wind_speed', 'power',\n",
       "       'nacelle_direction', 'wind_direction', 'rotor_speed', 'generator_speed',\n",
       "       'temp_environment', 'temp_hydraulic_oil', 'temp_gear_bearing', 'cosphi',\n",
       "       'blade_angle_avg', 'hydraulic_pressure', 'park_id', 'error_category',\n",
       "       'Error', 'month', 'bimonth', 'bimonthpark', 'speed', 'direction',\n",
       "       'park_id_2', 'bimonth_1', 'bimonth_2', 'bimonth_3', 'bimonth_4',\n",
       "       'bimonth_5', 'bimonth_6', 'turbine_id_12', 'turbine_id_13',\n",
       "       'turbine_id_14', 'turbine_id_21', 'turbine_id_22', 'turbine_id_23',\n",
       "       'turbine_id_24', 'turbine_id_25', 'turbine_id_26', 'turbine_id_27',\n",
       "       'turbine_id_28', 'turbine_id_29'],\n",
       "      dtype='object')"
      ]
     },
     "execution_count": 185,
     "metadata": {},
     "output_type": "execute_result"
    }
   ],
   "source": [
    "X_train.columns"
   ]
  },
  {
   "cell_type": "code",
   "execution_count": 186,
   "metadata": {},
   "outputs": [],
   "source": [
    "X_train[\"speed\"]=(X_train.rotor_speed+X_train.generator_speed)/2\n",
    "X_train[\"direction\"]=(X_train.nacelle_direction+X_train.wind_direction)/2\n",
    "df[\"speed\"]=(df.rotor_speed+df.generator_speed)\n",
    "df[\"direction\"]=(df.nacelle_direction+df.wind_direction)\n",
    "\n",
    "df[\"hourofday\"]=df.measured_at.dt.hour\n",
    "df[\"isnight\"]=(df.hourofday >= 18) | (df.hourofday <=5)"
   ]
  },
  {
   "cell_type": "code",
   "execution_count": 187,
   "metadata": {},
   "outputs": [],
   "source": [
    "num_attribs=['speed', 'power',\n",
    "       'direction', 'rotor_speed', 'generator_speed','wind_speed',\n",
    "       'temp_environment', 'temp_hydraulic_oil', 'temp_gear_bearing', 'cosphi',\n",
    "       'blade_angle_avg', 'hydraulic_pressure']\n",
    "cat_attribs=['park_id','bimonthpark','bimonth','turbine_id','isnight']"
   ]
  },
  {
   "cell_type": "code",
   "execution_count": 188,
   "metadata": {},
   "outputs": [
    {
     "data": {
      "text/plain": [
       "index                 0\n",
       "turbine_id            0\n",
       "measured_at           0\n",
       "wind_speed            0\n",
       "power                 0\n",
       "nacelle_direction     0\n",
       "wind_direction        0\n",
       "rotor_speed           0\n",
       "generator_speed       0\n",
       "temp_environment      0\n",
       "temp_hydraulic_oil    0\n",
       "temp_gear_bearing     0\n",
       "cosphi                0\n",
       "blade_angle_avg       0\n",
       "hydraulic_pressure    0\n",
       "park_id               0\n",
       "error_category        0\n",
       "Error                 0\n",
       "month                 0\n",
       "bimonth               0\n",
       "bimonthpark           0\n",
       "speed                 0\n",
       "direction             0\n",
       "hourofday             0\n",
       "isnight               0\n",
       "dtype: int64"
      ]
     },
     "execution_count": 188,
     "metadata": {},
     "output_type": "execute_result"
    }
   ],
   "source": [
    "df.isnull().sum()"
   ]
  },
  {
   "cell_type": "code",
   "execution_count": 189,
   "metadata": {},
   "outputs": [
    {
     "name": "stdout",
     "output_type": "stream",
     "text": [
      "2019-01-01 00:00:00+00:00\n",
      "2021-04-30 22:50:00+00:00\n",
      "850 days 22:50:00\n"
     ]
    }
   ],
   "source": [
    "print(df.measured_at.min())\n",
    "print(df.measured_at.max())\n",
    "print(df.measured_at.max()-df.measured_at.min())"
   ]
  },
  {
   "cell_type": "code",
   "execution_count": 190,
   "metadata": {},
   "outputs": [
    {
     "data": {
      "text/plain": [
       "Timestamp('2020-04-30 00:00:00')"
      ]
     },
     "execution_count": 190,
     "metadata": {},
     "output_type": "execute_result"
    }
   ],
   "source": [
    "pd.to_datetime(\"2020-04-30\")"
   ]
  },
  {
   "cell_type": "code",
   "execution_count": 191,
   "metadata": {},
   "outputs": [],
   "source": [
    "df_train=df[df.measured_at < pd.Timestamp(\"2020-04-29\", tz=\"Europe/Brussels\")]\n",
    "df_test=df[df.measured_at >=pd.Timestamp(\"2020-04-29\", tz=\"Europe/Brussels\") ]"
   ]
  },
  {
   "cell_type": "code",
   "execution_count": 192,
   "metadata": {},
   "outputs": [
    {
     "data": {
      "text/plain": [
       "(692184, 25)"
      ]
     },
     "execution_count": 192,
     "metadata": {},
     "output_type": "execute_result"
    }
   ],
   "source": [
    "df_train.shape"
   ]
  },
  {
   "cell_type": "code",
   "execution_count": 193,
   "metadata": {},
   "outputs": [
    {
     "data": {
      "text/plain": [
       "(675006, 25)"
      ]
     },
     "execution_count": 193,
     "metadata": {},
     "output_type": "execute_result"
    }
   ],
   "source": [
    "df_test.shape"
   ]
  },
  {
   "cell_type": "code",
   "execution_count": 194,
   "metadata": {},
   "outputs": [
    {
     "data": {
      "text/plain": [
       "index                               int64\n",
       "turbine_id                          int64\n",
       "measured_at           datetime64[ns, UTC]\n",
       "wind_speed                        float64\n",
       "power                             float64\n",
       "nacelle_direction                 float64\n",
       "wind_direction                    float64\n",
       "rotor_speed                       float64\n",
       "generator_speed                   float64\n",
       "temp_environment                    int64\n",
       "temp_hydraulic_oil                  int64\n",
       "temp_gear_bearing                   int64\n",
       "cosphi                            float64\n",
       "blade_angle_avg                   float64\n",
       "hydraulic_pressure                float64\n",
       "park_id                             int64\n",
       "error_category                     object\n",
       "Error                                bool\n",
       "month                               int64\n",
       "bimonth                             int64\n",
       "bimonthpark                        object\n",
       "speed                             float64\n",
       "direction                         float64\n",
       "hourofday                           int64\n",
       "isnight                              bool\n",
       "dtype: object"
      ]
     },
     "execution_count": 194,
     "metadata": {},
     "output_type": "execute_result"
    }
   ],
   "source": [
    "df.dtypes\n",
    "df.bimonthpark=str(df.bimonthpark)\n",
    "df.dtypes"
   ]
  },
  {
   "cell_type": "code",
   "execution_count": 206,
   "metadata": {},
   "outputs": [
    {
     "data": {
      "text/plain": [
       "index                               int64\n",
       "turbine_id                          int64\n",
       "measured_at           datetime64[ns, UTC]\n",
       "wind_speed                        float64\n",
       "power                             float64\n",
       "nacelle_direction                 float64\n",
       "wind_direction                    float64\n",
       "rotor_speed                       float64\n",
       "generator_speed                   float64\n",
       "temp_environment                    int64\n",
       "temp_hydraulic_oil                  int64\n",
       "temp_gear_bearing                   int64\n",
       "cosphi                            float64\n",
       "blade_angle_avg                   float64\n",
       "hydraulic_pressure                float64\n",
       "park_id                             int64\n",
       "error_category                     object\n",
       "Error                                bool\n",
       "month                               int64\n",
       "bimonth                             int64\n",
       "bimonthpark                        object\n",
       "speed                             float64\n",
       "direction                         float64\n",
       "hourofday                           int64\n",
       "isnight                              bool\n",
       "dtype: object"
      ]
     },
     "execution_count": 206,
     "metadata": {},
     "output_type": "execute_result"
    }
   ],
   "source": [
    "\n",
    "X_train=df_train.copy()\n",
    "X_test=df_test.copy()\n",
    "y_train=df_train.Error.copy()\n",
    "y_test=df_test.Error.copy()\n",
    "y_test_full=df_test.error_category\n",
    "y_train_full=df_train.error_category\n",
    "X_train.dtypes"
   ]
  },
  {
   "cell_type": "code",
   "execution_count": null,
   "metadata": {},
   "outputs": [],
   "source": []
  },
  {
   "cell_type": "code",
   "execution_count": 207,
   "metadata": {},
   "outputs": [],
   "source": [
    "from sklearn.preprocessing import OneHotEncoder\n",
    "\n",
    "encoder=OneHotEncoder(sparse=False, drop=\"first\")\n",
    "encoder.fit(X_train[cat_attribs])\n",
    "encoded_cols=list(encoder.get_feature_names_out(cat_attribs))\n",
    "X_train[encoded_cols]=encoder.transform(X_train[cat_attribs])\n",
    "X_test[encoded_cols]=encoder.transform(X_test[cat_attribs])"
   ]
  },
  {
   "cell_type": "code",
   "execution_count": 208,
   "metadata": {},
   "outputs": [
    {
     "data": {
      "text/plain": [
       "speed                 float64\n",
       "power                 float64\n",
       "direction             float64\n",
       "rotor_speed           float64\n",
       "generator_speed       float64\n",
       "wind_speed            float64\n",
       "temp_environment        int64\n",
       "temp_hydraulic_oil      int64\n",
       "temp_gear_bearing       int64\n",
       "cosphi                float64\n",
       "blade_angle_avg       float64\n",
       "hydraulic_pressure    float64\n",
       "dtype: object"
      ]
     },
     "execution_count": 208,
     "metadata": {},
     "output_type": "execute_result"
    }
   ],
   "source": [
    "X_train[num_attribs].dtypes"
   ]
  },
  {
   "cell_type": "code",
   "execution_count": 198,
   "metadata": {},
   "outputs": [],
   "source": [
    "from sklearn.preprocessing import StandardScaler\n",
    "scaler=StandardScaler()\n",
    "scaler.fit(X_train[num_attribs])\n",
    "X_train[num_attribs]=scaler.transform(X_train[num_attribs])\n",
    "X_test[num_attribs]=scaler.transform(X_test[num_attribs])"
   ]
  },
  {
   "cell_type": "markdown",
   "metadata": {},
   "source": []
  },
  {
   "cell_type": "code",
   "execution_count": 199,
   "metadata": {},
   "outputs": [
    {
     "name": "stderr",
     "output_type": "stream",
     "text": [
      "/Users/mloeffler/opt/anaconda3/lib/python3.8/site-packages/glum/_link.py:259: UserWarning: Computing sigmoid function gave results too close to 0 or 1. Clipping.\n",
      "  warnings.warn(\n"
     ]
    },
    {
     "data": {
      "text/plain": [
       "GeneralizedLinearRegressorCV(cv=10, family='binomial', l1_ratio=[0.8, 0.9, 1],\n",
       "                             link='logit', max_iter=150, min_alpha=0.0001)"
      ]
     },
     "execution_count": 199,
     "metadata": {},
     "output_type": "execute_result"
    }
   ],
   "source": [
    "#train a lasso and/or elastic model with logistic regression, using CV \n",
    "\n",
    "#the cv in glum for binomial is done (presumably) via deviance and not accuracy, but small deviance => good accuracy in principle\n",
    "from glum import GeneralizedLinearRegressorCV\n",
    "\n",
    "lin_reg=GeneralizedLinearRegressorCV(family=\"binomial\", link=\"logit\", cv=5, \n",
    "                                     min_alpha=0.0001, l1_ratio=[0.8, 0.9,1], \n",
    "                                     fit_intercept=True,\n",
    "                                     max_iter=150)\n",
    "\n",
    "lin_reg.fit(X_train[num_attribs+encoded_cols],y_train)"
   ]
  },
  {
   "cell_type": "code",
   "execution_count": 200,
   "metadata": {},
   "outputs": [
    {
     "name": "stdout",
     "output_type": "stream",
     "text": [
      "alpha: 0.0022417648033538854 , l1_ratio: 0.8\n"
     ]
    }
   ],
   "source": [
    "print(\"alpha:\", lin_reg.alpha_ ,\", l1_ratio:\", lin_reg.l1_ratio_)"
   ]
  },
  {
   "cell_type": "code",
   "execution_count": 201,
   "metadata": {},
   "outputs": [
    {
     "data": {
      "image/png": "[encoded data removed]",
      "text/plain": [
       "<Figure size 1440x432 with 1 Axes>"
      ]
     },
     "metadata": {},
     "output_type": "display_data"
    }
   ],
   "source": [
    "#plot the largest coefficients\n",
    "\n",
    "coefs=pd.DataFrame(lin_reg.coef_, index=X_test[num_attribs+encoded_cols].columns,columns=[\"Parameter Estimates\"])\n",
    "coefs.sort_values(by=\"Parameter Estimates\",key=abs,ascending=False).plot(kind=\"bar\",figsize=(20,6));\n",
    "plt.title(\"Parameter Estimates\");"
   ]
  },
  {
   "cell_type": "code",
   "execution_count": 202,
   "metadata": {},
   "outputs": [
    {
     "name": "stdout",
     "output_type": "stream",
     "text": [
      "The Baseline error is: 7.2 %\n"
     ]
    }
   ],
   "source": [
    "#Baseline accuracy by always guessing no error:\n",
    "print(\"The Baseline error is:\",round(np.sum(y_test)/len(y_test)*100,2), \"%\")\n"
   ]
  },
  {
   "cell_type": "code",
   "execution_count": null,
   "metadata": {},
   "outputs": [],
   "source": []
  },
  {
   "cell_type": "code",
   "execution_count": null,
   "metadata": {},
   "outputs": [],
   "source": []
  },
  {
   "cell_type": "code",
   "execution_count": 203,
   "metadata": {},
   "outputs": [
    {
     "name": "stdout",
     "output_type": "stream",
     "text": [
      "Accuracy is 98.81 %\n"
     ]
    }
   ],
   "source": [
    "y_hat_test=(lin_reg.predict(X_test[num_attribs+encoded_cols])>=0.5)\n",
    "from sklearn.metrics import accuracy_score\n",
    "print(\"Accuracy is\", round(accuracy_score(y_hat_test,y_test)*100,2), \"%\", )"
   ]
  },
  {
   "cell_type": "code",
   "execution_count": 204,
   "metadata": {},
   "outputs": [
    {
     "name": "stdout",
     "output_type": "stream",
     "text": [
      "F1 score of baseline is 0.0\n",
      "F1 score of glm lasso is 0.9114890433864296\n"
     ]
    }
   ],
   "source": [
    "y_baseline=np.zeros(len(y_test))\n",
    "\n",
    "from sklearn.metrics import f1_score\n",
    "\n",
    "print(\"F1 score of baseline is\", f1_score(y_test,y_baseline))\n",
    "print(\"F1 score of glm lasso is\", f1_score(y_test,y_hat_test))\n",
    "\n"
   ]
  },
  {
   "cell_type": "code",
   "execution_count": 205,
   "metadata": {},
   "outputs": [
    {
     "data": {
      "text/plain": [
       "Index(['index', 'turbine_id', 'measured_at', 'wind_speed', 'power',\n",
       "       'nacelle_direction', 'wind_direction', 'rotor_speed', 'generator_speed',\n",
       "       'temp_environment', 'temp_hydraulic_oil', 'temp_gear_bearing', 'cosphi',\n",
       "       'blade_angle_avg', 'hydraulic_pressure', 'park_id', 'error_category',\n",
       "       'Error', 'month', 'bimonth', 'bimonthpark', 'speed', 'direction',\n",
       "       'hourofday', 'isnight'],\n",
       "      dtype='object')"
      ]
     },
     "execution_count": 205,
     "metadata": {},
     "output_type": "execute_result"
    }
   ],
   "source": [
    "#now fit xgboost\n",
    "\n",
    "df_train.columns"
   ]
  },
  {
   "cell_type": "code",
   "execution_count": 182,
   "metadata": {},
   "outputs": [],
   "source": [
    "xgb_attribs=['turbine_id', 'wind_speed', 'power',\n",
    "       'temp_environment', 'temp_hydraulic_oil', 'temp_gear_bearing', 'cosphi',\n",
    "       'blade_angle_avg', 'hydraulic_pressure', 'park_id', 'month', 'speed', 'direction', 'hourofday']\n"
   ]
  },
  {
   "cell_type": "code",
   "execution_count": 224,
   "metadata": {},
   "outputs": [],
   "source": [
    "\n",
    "\n",
    "#ordinal encode labels\n",
    "from sklearn.preprocessing import LabelEncoder\n",
    "\n",
    "labelencoder=LabelEncoder()\n",
    "labelencoder.fit(df.error_category)\n",
    "df[\"EncodedErrors\"]=labelencoder.transform(df.error_category)\n"
   ]
  },
  {
   "cell_type": "code",
   "execution_count": 225,
   "metadata": {},
   "outputs": [],
   "source": [
    "from sklearn.model_selection import train_test_split\n",
    "\n",
    "X_train_xgb, X_test_xgb, y_train_xgb, y_test_xgb=train_test_split(df[xgb_attribs], df.EncodedErrors)"
   ]
  },
  {
   "cell_type": "code",
   "execution_count": 226,
   "metadata": {},
   "outputs": [
    {
     "name": "stdout",
     "output_type": "stream",
     "text": [
      "[[     0  35930]\n",
      " [     1  16280]\n",
      " [     2   2828]\n",
      " [     3    588]\n",
      " [     4     99]\n",
      " [     5      2]\n",
      " [     6   1331]\n",
      " [     7     79]\n",
      " [     8     16]\n",
      " [     9   1106]\n",
      " [    10      2]\n",
      " [    11   7592]\n",
      " [    12    302]\n",
      " [    13    395]\n",
      " [    14   3664]\n",
      " [    15     22]\n",
      " [    16    809]\n",
      " [    17 954347]]\n"
     ]
    }
   ],
   "source": [
    "unique, counts = np.unique(y_train_xgb, return_counts=True)\n",
    "\n",
    "print(np.asarray((unique, counts)).T)"
   ]
  },
  {
   "cell_type": "code",
   "execution_count": 227,
   "metadata": {},
   "outputs": [
    {
     "name": "stdout",
     "output_type": "stream",
     "text": [
      "[[     0  22129]\n",
      " [     1  15507]\n",
      " [     2   1924]\n",
      " [     3    371]\n",
      " [     4     78]\n",
      " [     5      2]\n",
      " [     6    860]\n",
      " [     8      8]\n",
      " [     9    623]\n",
      " [    10      4]\n",
      " [    11   3331]\n",
      " [    12    173]\n",
      " [    13    260]\n",
      " [    14   2235]\n",
      " [    16   1081]\n",
      " [    17 626420]]\n"
     ]
    }
   ],
   "source": [
    "unique, counts = np.unique(y_test_full_trans, return_counts=True)\n",
    "\n",
    "print(np.asarray((unique, counts)).T)"
   ]
  },
  {
   "cell_type": "code",
   "execution_count": 240,
   "metadata": {},
   "outputs": [
    {
     "name": "stderr",
     "output_type": "stream",
     "text": [
      "/Users/mloeffler/opt/anaconda3/lib/python3.8/site-packages/sklearn/model_selection/_split.py:676: UserWarning: The least populated class in y has only 2 members, which is less than n_splits=5.\n",
      "  warnings.warn(\n"
     ]
    },
    {
     "name": "stdout",
     "output_type": "stream",
     "text": [
      "[19:40:04] WARNING: /Users/runner/miniforge3/conda-bld/xgboost-split_1645117948562/work/src/learner.cc:1115: Starting in XGBoost 1.3.0, the default evaluation metric used with the objective 'multi:softprob' was changed from 'merror' to 'mlogloss'. Explicitly set eval_metric if you'd like to restore the old behavior.\n"
     ]
    }
   ],
   "source": [
    "from xgboost import XGBClassifier\n",
    "from sklearn.model_selection import GridSearchCV\n",
    "\n",
    "xgb=XGBClassifier(objective=\"multi:softmax\",use_label_encoder=False)\n",
    "parameters={\"n_estimators\":[100,80], \"learning_rate\":[0.1], \"max_depth\":[6], \"gamma\":[0.1]}\n",
    "\n",
    "xgb_cv=GridSearchCV(xgb, parameters, scoring=\"accuracy\",cv=5)\n",
    "xgb_cv.fit(X_train_xgb,y_train_xgb)\n",
    "\n",
    "print(\"Best parameters:\", xgb_cv.best_params_ , \", Best CV Accuracy:\", xgb_cv.best_score_)"
   ]
  },
  {
   "cell_type": "code",
   "execution_count": null,
   "metadata": {},
   "outputs": [
    {
     "name": "stdout",
     "output_type": "stream",
     "text": [
      "XGBC has test accuracy 99.37 %\n"
     ]
    }
   ],
   "source": [
    "#prediction\n",
    "y_hat_xgb=xgb_cv.best_estimator_.predict(X_test_xgb)\n",
    "print(\"XGBC has test accuracy\", round(100*(accuracy_score(y_hat_xgb,y_test_xgb)),2), \"%\")"
   ]
  },
  {
   "cell_type": "code",
   "execution_count": null,
   "metadata": {},
   "outputs": [
    {
     "data": {
      "image/png": "[encoded data removed]",
      "text/plain": [
       "<Figure size 1440x432 with 1 Axes>"
      ]
     },
     "metadata": {},
     "output_type": "display_data"
    }
   ],
   "source": [
    "#plot feature importance of xgb\n",
    "importance_df=pd.DataFrame(xgb_cv.best_estimator_.feature_importances_, \n",
    "                           index=X_train_xgb.columns, columns=[\"Feature Importance\"])\n",
    "\n",
    "importance_df.sort_values(by=\"Feature Importance\", ascending=False).head(10).plot(kind=\"bar\",figsize=(20,6));"
   ]
  },
  {
   "cell_type": "code",
   "execution_count": null,
   "metadata": {},
   "outputs": [
    {
     "name": "stdout",
     "output_type": "stream",
     "text": [
      "F1 score of baseline is 0.003924097297915976\n",
      "F1 score of xgb is 0.785506106903474\n"
     ]
    }
   ],
   "source": [
    "y_baseline=np.zeros(len(y_test_xgb))\n",
    "\n",
    "from sklearn.metrics import f1_score\n",
    "\n",
    "print(\"F1 score of baseline is\", f1_score(y_test_xgb,y_baseline, average=\"macro\"))\n",
    "print(\"F1 score of xgb is\", f1_score(y_test_xgb,y_hat_xgb, average=\"macro\"))\n",
    "\n"
   ]
  },
  {
   "cell_type": "code",
   "execution_count": null,
   "metadata": {},
   "outputs": [],
   "source": []
  }
 ],
 "metadata": {
  "interpreter": {
   "hash": "f20724ad43ab919d9c7bc243f4e6f22cc4f6c9eb417b6785f57a74d3e0b71f06"
  },
  "kernelspec": {
   "display_name": "Python 3.8.5 ('base')",
   "language": "python",
   "name": "python3"
  },
  "language_info": {
   "codemirror_mode": {
    "name": "ipython",
    "version": 3
   },
   "file_extension": ".py",
   "mimetype": "text/x-python",
   "name": "python",
   "nbconvert_exporter": "python",
   "pygments_lexer": "ipython3",
   "version": "3.8.5"
  },
  "orig_nbformat": 4
 },
 "nbformat": 4,
 "nbformat_minor": 2
}
