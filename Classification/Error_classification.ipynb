{
 "cells": [
  {
   "cell_type": "code",
   "execution_count": 1,
   "metadata": {},
   "outputs": [
    {
     "name": "stderr",
     "output_type": "stream",
     "text": [
      "Missing colon in file '/Users/christianelorenz/.matplotlib/matplotlibrc', line 1 ('cat ~/.matplotlib/matplotlibrc')\n"
     ]
    }
   ],
   "source": [
    "import numpy as np\n",
    "import pandas as pd\n",
    "import matplotlib.pyplot as plt\n",
    "import matplotlib as mpl\n",
    "import seaborn as sns\n",
    "\n",
    "plt.style.use(\"ggplot\")\n",
    "\n",
    "pd.set_option('display.max_columns', None)"
   ]
  },
  {
   "cell_type": "markdown",
   "metadata": {},
   "source": [
    "Read in the full dataset:"
   ]
  },
  {
   "cell_type": "code",
   "execution_count": 3,
   "metadata": {},
   "outputs": [],
   "source": [
    "df=pd.read_csv(\"../../trainset_full.csv\", low_memory=False)"
   ]
  },
  {
   "cell_type": "markdown",
   "metadata": {},
   "source": [
    "Define new feature \"Error\" that indicates if there is any error. This is the target variable which we would like to predict. Define which features are used."
   ]
  },
  {
   "cell_type": "code",
   "execution_count": 4,
   "metadata": {},
   "outputs": [],
   "source": [
    "df[\"Error\"]=df.error_category != \"NO_ERROR\"\n",
    "X_train=df[['index', 'turbine_id', 'measured_at', 'wind_speed', 'power',\n",
    "       'nacelle_direction', 'wind_direction', 'rotor_speed', 'generator_speed',\n",
    "       'temp_environment', 'temp_hydraulic_oil', 'temp_gear_bearing', 'cosphi',\n",
    "       'blade_angle_avg', 'hydraulic_pressure', 'park_id']]\n",
    "y_train=df.Error\n",
    "y_train_full=df.error_category"
   ]
  },
  {
   "cell_type": "code",
   "execution_count": 48,
   "metadata": {},
   "outputs": [],
   "source": [
    "import datetime as dt\n",
    "X_train[\"measured_at\"]=pd.to_datetime(X_train.measured_at) \n",
    "X_train[\"month\"]=X_train.measured_at.dt.month\n",
    "X_train[\"bimonth\"]=X_train.month // 2 \n",
    "X_train[\"bimonthpark\"]= str(X_train.bimonth)+\":\"+str(X_train.park_id)\n",
    "X_train[\"Error\"]=df.Error\n",
    "\n",
    "df[\"measured_at\"]=pd.to_datetime(df.measured_at) \n",
    "df[\"month\"]=df.measured_at.dt.month\n",
    "df[\"bimonth\"]=df.month// 2 \n",
    "df[\"bimonthpark\"]= str(X_train.bimonth)+\":\"+str(X_train.park_id)"
   ]
  },
  {
   "cell_type": "code",
   "execution_count": 6,
   "metadata": {},
   "outputs": [
    {
     "data": {
      "text/plain": [
       "Index(['index', 'turbine_id', 'measured_at', 'wind_speed', 'power',\n",
       "       'nacelle_direction', 'wind_direction', 'rotor_speed', 'generator_speed',\n",
       "       'temp_environment', 'temp_hydraulic_oil', 'temp_gear_bearing', 'cosphi',\n",
       "       'blade_angle_avg', 'hydraulic_pressure', 'park_id', 'month', 'bimonth',\n",
       "       'bimonthpark', 'Error'],\n",
       "      dtype='object')"
      ]
     },
     "execution_count": 6,
     "metadata": {},
     "output_type": "execute_result"
    }
   ],
   "source": [
    "X_train.columns"
   ]
  },
  {
   "cell_type": "markdown",
   "metadata": {},
   "source": [
    "In the data exploration we have seen that the features rotor_speed and generator_speed are highly correlated with each other, as well as nacelle_direction and wind_direction. Therefore we can merge these four features into two features. "
   ]
  },
  {
   "cell_type": "code",
   "execution_count": 57,
   "metadata": {},
   "outputs": [],
   "source": [
    "X_train[\"speed\"]=(X_train.rotor_speed+X_train.generator_speed)/2\n",
    "X_train[\"direction\"]=(X_train.nacelle_direction+X_train.wind_direction)/2\n",
    "\n",
    "df[\"speed\"]=(df.rotor_speed+df.generator_speed)/2\n",
    "df[\"direction\"]=(df.nacelle_direction+df.wind_direction)/2\n",
    "df[\"hourofday\"]=df.measured_at.dt.hour\n",
    "df[\"isnight\"]=(df.hourofday >= 18) | (df.hourofday <=5)"
   ]
  },
  {
   "cell_type": "code",
   "execution_count": 58,
   "metadata": {},
   "outputs": [],
   "source": [
    "num_attribs=['speed', 'power',\n",
    "       'direction', 'rotor_speed', 'generator_speed','wind_speed',\n",
    "       'temp_environment', 'temp_hydraulic_oil', 'temp_gear_bearing', 'cosphi',\n",
    "       'blade_angle_avg', 'hydraulic_pressure']\n",
    "cat_attribs=['park_id','bimonthpark','bimonth','turbine_id','isnight']"
   ]
  },
  {
   "cell_type": "code",
   "execution_count": null,
   "metadata": {},
   "outputs": [],
   "source": [
    "Next, we split the dataset into "
   ]
  },
  {
   "cell_type": "code",
   "execution_count": 59,
   "metadata": {},
   "outputs": [
    {
     "name": "stdout",
     "output_type": "stream",
     "text": [
      "2019-01-01 00:00:00+00:00\n",
      "2021-04-30 22:50:00+00:00\n",
      "850 days 22:50:00\n"
     ]
    }
   ],
   "source": [
    "print(df.measured_at.min())\n",
    "print(df.measured_at.max())\n",
    "print(df.measured_at.max()-df.measured_at.min())"
   ]
  },
  {
   "cell_type": "code",
   "execution_count": 60,
   "metadata": {},
   "outputs": [
    {
     "data": {
      "text/plain": [
       "Timestamp('2020-04-30 00:00:00')"
      ]
     },
     "execution_count": 60,
     "metadata": {},
     "output_type": "execute_result"
    }
   ],
   "source": [
    "pd.to_datetime(\"2020-04-30\")"
   ]
  },
  {
   "cell_type": "code",
   "execution_count": 61,
   "metadata": {},
   "outputs": [],
   "source": [
    "df_train=df[df.measured_at < pd.Timestamp(\"2020-04-29\", tz=\"Europe/Brussels\")]\n",
    "df_test=df[df.measured_at >=pd.Timestamp(\"2020-04-29\", tz=\"Europe/Brussels\") ]"
   ]
  },
  {
   "cell_type": "code",
   "execution_count": 13,
   "metadata": {},
   "outputs": [
    {
     "data": {
      "text/plain": [
       "(692184, 25)"
      ]
     },
     "execution_count": 13,
     "metadata": {},
     "output_type": "execute_result"
    }
   ],
   "source": [
    "df_train.shape"
   ]
  },
  {
   "cell_type": "code",
   "execution_count": 14,
   "metadata": {},
   "outputs": [
    {
     "data": {
      "text/plain": [
       "(675006, 25)"
      ]
     },
     "execution_count": 14,
     "metadata": {},
     "output_type": "execute_result"
    }
   ],
   "source": [
    "df_test.shape"
   ]
  },
  {
   "cell_type": "code",
   "execution_count": 15,
   "metadata": {},
   "outputs": [
    {
     "data": {
      "text/plain": [
       "index                               int64\n",
       "turbine_id                          int64\n",
       "measured_at           datetime64[ns, UTC]\n",
       "wind_speed                        float64\n",
       "power                             float64\n",
       "nacelle_direction                 float64\n",
       "wind_direction                    float64\n",
       "rotor_speed                       float64\n",
       "generator_speed                   float64\n",
       "temp_environment                    int64\n",
       "temp_hydraulic_oil                  int64\n",
       "temp_gear_bearing                   int64\n",
       "cosphi                            float64\n",
       "blade_angle_avg                   float64\n",
       "hydraulic_pressure                float64\n",
       "park_id                             int64\n",
       "error_category                     object\n",
       "Error                                bool\n",
       "month                               int64\n",
       "bimonth                             int64\n",
       "bimonthpark                        object\n",
       "speed                             float64\n",
       "direction                         float64\n",
       "hourofday                           int64\n",
       "isnight                              bool\n",
       "dtype: object"
      ]
     },
     "execution_count": 15,
     "metadata": {},
     "output_type": "execute_result"
    }
   ],
   "source": [
    "df.dtypes\n",
    "df.bimonthpark=str(df.bimonthpark)\n",
    "df.dtypes"
   ]
  },
  {
   "cell_type": "code",
   "execution_count": 16,
   "metadata": {},
   "outputs": [
    {
     "data": {
      "text/plain": [
       "index                               int64\n",
       "turbine_id                          int64\n",
       "measured_at           datetime64[ns, UTC]\n",
       "wind_speed                        float64\n",
       "power                             float64\n",
       "nacelle_direction                 float64\n",
       "wind_direction                    float64\n",
       "rotor_speed                       float64\n",
       "generator_speed                   float64\n",
       "temp_environment                    int64\n",
       "temp_hydraulic_oil                  int64\n",
       "temp_gear_bearing                   int64\n",
       "cosphi                            float64\n",
       "blade_angle_avg                   float64\n",
       "hydraulic_pressure                float64\n",
       "park_id                             int64\n",
       "error_category                     object\n",
       "Error                                bool\n",
       "month                               int64\n",
       "bimonth                             int64\n",
       "bimonthpark                        object\n",
       "speed                             float64\n",
       "direction                         float64\n",
       "hourofday                           int64\n",
       "isnight                              bool\n",
       "dtype: object"
      ]
     },
     "execution_count": 16,
     "metadata": {},
     "output_type": "execute_result"
    }
   ],
   "source": [
    "X_train=df_train.copy()\n",
    "X_test=df_test.copy()\n",
    "y_train=df_train.Error.copy()\n",
    "y_test=df_test.Error.copy()\n",
    "X_train.dtypes"
   ]
  },
  {
   "cell_type": "code",
   "execution_count": 17,
   "metadata": {},
   "outputs": [],
   "source": [
    "from sklearn.preprocessing import OneHotEncoder\n",
    "\n",
    "encoder=OneHotEncoder(sparse=False, drop=\"first\")\n",
    "encoder.fit(X_train[cat_attribs])\n",
    "encoded_cols=list(encoder.get_feature_names_out(cat_attribs))\n",
    "X_train[encoded_cols]=encoder.transform(X_train[cat_attribs])\n",
    "X_test[encoded_cols]=encoder.transform(X_test[cat_attribs])"
   ]
  },
  {
   "cell_type": "code",
   "execution_count": 18,
   "metadata": {},
   "outputs": [
    {
     "data": {
      "text/plain": [
       "speed                 float64\n",
       "power                 float64\n",
       "direction             float64\n",
       "rotor_speed           float64\n",
       "generator_speed       float64\n",
       "wind_speed            float64\n",
       "temp_environment        int64\n",
       "temp_hydraulic_oil      int64\n",
       "temp_gear_bearing       int64\n",
       "cosphi                float64\n",
       "blade_angle_avg       float64\n",
       "hydraulic_pressure    float64\n",
       "dtype: object"
      ]
     },
     "execution_count": 18,
     "metadata": {},
     "output_type": "execute_result"
    }
   ],
   "source": [
    "X_train[num_attribs].dtypes"
   ]
  },
  {
   "cell_type": "code",
   "execution_count": 19,
   "metadata": {},
   "outputs": [],
   "source": [
    "from sklearn.preprocessing import StandardScaler\n",
    "scaler=StandardScaler()\n",
    "scaler.fit(X_train[num_attribs])\n",
    "X_train[num_attribs]=scaler.transform(X_train[num_attribs])\n",
    "X_test[num_attribs]=scaler.transform(X_test[num_attribs])"
   ]
  },
  {
   "cell_type": "markdown",
   "metadata": {},
   "source": []
  },
  {
   "cell_type": "code",
   "execution_count": 20,
   "metadata": {},
   "outputs": [
    {
     "name": "stderr",
     "output_type": "stream",
     "text": [
      "/Users/christianelorenz/Documents/Career development/env3/lib/python3.9/site-packages/glum/_link.py:259: UserWarning: Computing sigmoid function gave results too close to 0 or 1. Clipping.\n",
      "  warnings.warn(\n"
     ]
    },
    {
     "data": {
      "text/plain": [
       "GeneralizedLinearRegressorCV(cv=5, family='binomial', l1_ratio=[0.8, 0.9, 1],\n",
       "                             link='logit', max_iter=150, min_alpha=0.0001)"
      ]
     },
     "execution_count": 20,
     "metadata": {},
     "output_type": "execute_result"
    }
   ],
   "source": [
    "#train a lasso and/or elastic model with logistic regression, using CV \n",
    "\n",
    "#the cv in glum for binomial is done (presumably) via deviance and not accuracy, but small deviance => good accuracy in principle\n",
    "from glum import GeneralizedLinearRegressorCV\n",
    "\n",
    "lin_reg=GeneralizedLinearRegressorCV(family=\"binomial\", link=\"logit\", cv=5, \n",
    "                                     min_alpha=0.0001, l1_ratio=[0.8, 0.9,1], \n",
    "                                     fit_intercept=True,\n",
    "                                     max_iter=150)\n",
    "\n",
    "lin_reg.fit(X_train[num_attribs+encoded_cols],y_train)"
   ]
  },
  {
   "cell_type": "code",
   "execution_count": 21,
   "metadata": {},
   "outputs": [
    {
     "name": "stdout",
     "output_type": "stream",
     "text": [
      "alpha: 0.002069948461195029 , l1_ratio: 0.8\n"
     ]
    }
   ],
   "source": [
    "print(\"alpha:\", lin_reg.alpha_ ,\", l1_ratio:\", lin_reg.l1_ratio_)"
   ]
  },
  {
   "cell_type": "code",
   "execution_count": 22,
   "metadata": {},
   "outputs": [
    {
     "data": {
      "image/png": "[encoded data removed]",
      "text/plain": [
       "<Figure size 1440x432 with 1 Axes>"
      ]
     },
     "metadata": {},
     "output_type": "display_data"
    }
   ],
   "source": [
    "#plot the largest coefficients\n",
    "coefs=pd.DataFrame(lin_reg.coef_, index=X_test[num_attribs+encoded_cols].columns,columns=[\"Parameter Estimates\"])\n",
    "coefs.sort_values(by=\"Parameter Estimates\",key=abs,ascending=False).plot(kind=\"bar\",figsize=(20,6));\n",
    "plt.title(\"Parameter Estimates\");"
   ]
  },
  {
   "cell_type": "code",
   "execution_count": 23,
   "metadata": {},
   "outputs": [
    {
     "name": "stdout",
     "output_type": "stream",
     "text": [
      "The Baseline error is: 7.2 %\n"
     ]
    }
   ],
   "source": [
    "#Baseline accuracy by always guessing no error:\n",
    "print(\"The Baseline error is:\",round(np.sum(y_test)/len(y_test)*100,2), \"%\")"
   ]
  },
  {
   "cell_type": "code",
   "execution_count": 24,
   "metadata": {},
   "outputs": [
    {
     "name": "stdout",
     "output_type": "stream",
     "text": [
      "Accuracy is 98.81 %\n"
     ]
    }
   ],
   "source": [
    "y_hat_test=(lin_reg.predict(X_test[num_attribs+encoded_cols])>=0.5)\n",
    "from sklearn.metrics import accuracy_score\n",
    "print(\"Accuracy is\", round(accuracy_score(y_hat_test,y_test)*100,2), \"%\", )"
   ]
  },
  {
   "cell_type": "code",
   "execution_count": 25,
   "metadata": {},
   "outputs": [
    {
     "name": "stdout",
     "output_type": "stream",
     "text": [
      "F1 score of baseline is 0.0\n",
      "F1 score of glm lasso is 0.9120972083365377\n"
     ]
    }
   ],
   "source": [
    "y_baseline=np.zeros(len(y_test))\n",
    "\n",
    "from sklearn.metrics import f1_score\n",
    "\n",
    "print(\"F1 score of baseline is\", f1_score(y_test,y_baseline))\n",
    "print(\"F1 score of glm lasso is\", f1_score(y_test,y_hat_test))"
   ]
  },
  {
   "cell_type": "code",
   "execution_count": 26,
   "metadata": {},
   "outputs": [
    {
     "data": {
      "text/plain": [
       "Index(['index', 'turbine_id', 'measured_at', 'wind_speed', 'power',\n",
       "       'nacelle_direction', 'wind_direction', 'rotor_speed', 'generator_speed',\n",
       "       'temp_environment', 'temp_hydraulic_oil', 'temp_gear_bearing', 'cosphi',\n",
       "       'blade_angle_avg', 'hydraulic_pressure', 'park_id', 'error_category',\n",
       "       'Error', 'month', 'bimonth', 'bimonthpark', 'speed', 'direction',\n",
       "       'hourofday', 'isnight'],\n",
       "      dtype='object')"
      ]
     },
     "execution_count": 26,
     "metadata": {},
     "output_type": "execute_result"
    }
   ],
   "source": [
    "#now fit xgboost\n",
    "df_train.columns"
   ]
  },
  {
   "cell_type": "code",
   "execution_count": 27,
   "metadata": {},
   "outputs": [],
   "source": [
    "xgb_attribs=['turbine_id', 'wind_speed', 'power',\n",
    "       'temp_environment', 'temp_hydraulic_oil', 'temp_gear_bearing', 'cosphi',\n",
    "       'blade_angle_avg', 'hydraulic_pressure', 'park_id', 'month', 'speed', 'direction', 'hourofday']\n",
    "\n",
    "X_train_xgb=df_train[xgb_attribs]\n",
    "X_test_xgb=df_test[xgb_attribs]"
   ]
  },
  {
   "cell_type": "code",
   "execution_count": 51,
   "metadata": {},
   "outputs": [
    {
     "name": "stdout",
     "output_type": "stream",
     "text": [
      "Best parameters: {'learning_rate': 0.1, 'max_depth': 6, 'min_child_weight': 1, 'n_estimators': 75} , Best CV Accuracy: 0.7847323094588254\n"
     ]
    }
   ],
   "source": [
    "from xgboost import XGBClassifier\n",
    "from sklearn.model_selection import GridSearchCV\n",
    "\n",
    "xgb=XGBClassifier(eval_metric=\"logloss\",use_label_encoder=False)\n",
    "parameters={\"n_estimators\":[100], \"learning_rate\":[0.1], \"max_depth\":[6]}\n",
    "#parameters2={\"n_estimators\":[75,85,100], \"learning_rate\":[0.1], \"max_depth\":[6],\"min_child_weight\":[1]}\n",
    "\n",
    "xgb_cv=GridSearchCV(xgb, parameters2, scoring=\"accuracy\",cv=5)\n",
    "xgb_cv.fit(X_train_xgb,y_train)\n",
    "\n",
    "print(\"Best parameters:\", xgb_cv.best_params_ , \", Best CV Accuracy:\", xgb_cv.best_score_)"
   ]
  },
  {
   "cell_type": "code",
   "execution_count": 52,
   "metadata": {},
   "outputs": [
    {
     "name": "stdout",
     "output_type": "stream",
     "text": [
      "XGBC has test accuracy 99.44 %\n"
     ]
    }
   ],
   "source": [
    "y_hat_xgb=xgb_cv.best_estimator_.predict(X_test_xgb)\n",
    "print(\"XGBC has test accuracy\", round(100*(accuracy_score(y_hat_xgb,y_test)),2), \"%\")"
   ]
  },
  {
   "cell_type": "code",
   "execution_count": 53,
   "metadata": {},
   "outputs": [
    {
     "data": {
      "image/png": "[encoded data removed]",
      "text/plain": [
       "<Figure size 1440x432 with 1 Axes>"
      ]
     },
     "metadata": {},
     "output_type": "display_data"
    }
   ],
   "source": [
    "#plot feature importance of xgb\n",
    "importance_df=pd.DataFrame(xgb_cv.best_estimator_.feature_importances_,index=X_train_xgb.columns, columns=[\"Feature Importance\"])\n",
    "importance_df.sort_values(by=\"Feature Importance\", ascending=False).head(10).plot(kind=\"bar\",figsize=(20,6));"
   ]
  },
  {
   "cell_type": "code",
   "execution_count": 55,
   "metadata": {},
   "outputs": [
    {
     "name": "stdout",
     "output_type": "stream",
     "text": [
      "F1 score of baseline is 0.0\n",
      "F1 score of XGBC is 0.960971699858191\n"
     ]
    }
   ],
   "source": [
    "print(\"F1 score of baseline is\", f1_score(y_test,y_baseline))\n",
    "print(\"F1 score of XGBC is\", f1_score(y_test,y_hat_xgb))"
   ]
  },
  {
   "cell_type": "code",
   "execution_count": null,
   "metadata": {},
   "outputs": [],
   "source": []
  }
 ],
 "metadata": {
  "interpreter": {
   "hash": "f20724ad43ab919d9c7bc243f4e6f22cc4f6c9eb417b6785f57a74d3e0b71f06"
  },
  "kernelspec": {
   "display_name": "Python 3 (ipykernel)",
   "language": "python",
   "name": "python3"
  },
  "language_info": {
   "codemirror_mode": {
    "name": "ipython",
    "version": 3
   },
   "file_extension": ".py",
   "mimetype": "text/x-python",
   "name": "python",
   "nbconvert_exporter": "python",
   "pygments_lexer": "ipython3",
   "version": "3.9.1"
  }
 },
 "nbformat": 4,
 "nbformat_minor": 2
}
