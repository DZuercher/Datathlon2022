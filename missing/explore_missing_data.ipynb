{
 "cells": [
  {
   "cell_type": "code",
   "execution_count": 3,
   "metadata": {},
   "outputs": [],
   "source": [
    "\n",
    "import pandas as pd\n",
    "import numpy as np\n",
    "from xgboost import XGBRegressor\n",
    "from sklearn.model_selection import GridSearchCV\n"
   ]
  },
  {
   "cell_type": "code",
   "execution_count": 226,
   "metadata": {},
   "outputs": [],
   "source": [
    "data_full=pd.read_csv(\"../raw_data/trainset_full.csv\")\n",
    "data_miss=pd.read_csv(\"../raw_data/trainset.csv\")"
   ]
  },
  {
   "cell_type": "code",
   "execution_count": 3,
   "metadata": {},
   "outputs": [
    {
     "data": {
      "text/html": [
       "<div>\n",
       "<style scoped>\n",
       "    .dataframe tbody tr th:only-of-type {\n",
       "        vertical-align: middle;\n",
       "    }\n",
       "\n",
       "    .dataframe tbody tr th {\n",
       "        vertical-align: top;\n",
       "    }\n",
       "\n",
       "    .dataframe thead th {\n",
       "        text-align: right;\n",
       "    }\n",
       "</style>\n",
       "<table border=\"1\" class=\"dataframe\">\n",
       "  <thead>\n",
       "    <tr style=\"text-align: right;\">\n",
       "      <th></th>\n",
       "      <th>index</th>\n",
       "      <th>turbine_id</th>\n",
       "      <th>measured_at</th>\n",
       "      <th>wind_speed</th>\n",
       "      <th>power</th>\n",
       "      <th>nacelle_direction</th>\n",
       "      <th>wind_direction</th>\n",
       "      <th>rotor_speed</th>\n",
       "      <th>generator_speed</th>\n",
       "      <th>temp_environment</th>\n",
       "      <th>temp_hydraulic_oil</th>\n",
       "      <th>temp_gear_bearing</th>\n",
       "      <th>cosphi</th>\n",
       "      <th>blade_angle_avg</th>\n",
       "      <th>hydraulic_pressure</th>\n",
       "      <th>park_id</th>\n",
       "      <th>error_category</th>\n",
       "    </tr>\n",
       "  </thead>\n",
       "  <tbody>\n",
       "    <tr>\n",
       "      <th>0</th>\n",
       "      <td>0</td>\n",
       "      <td>11</td>\n",
       "      <td>2020-01-01 00:00:00+00:00</td>\n",
       "      <td>0.433333</td>\n",
       "      <td>0.121250</td>\n",
       "      <td>266.0</td>\n",
       "      <td>266.3</td>\n",
       "      <td>0.677852</td>\n",
       "      <td>0.569444</td>\n",
       "      <td>5.0</td>\n",
       "      <td>20.0</td>\n",
       "      <td>32.0</td>\n",
       "      <td>0.85</td>\n",
       "      <td>-1.9</td>\n",
       "      <td>189.2</td>\n",
       "      <td>1</td>\n",
       "      <td>NO_ERROR</td>\n",
       "    </tr>\n",
       "    <tr>\n",
       "      <th>1</th>\n",
       "      <td>1</td>\n",
       "      <td>11</td>\n",
       "      <td>2020-01-01 00:10:00+00:00</td>\n",
       "      <td>0.458333</td>\n",
       "      <td>0.138750</td>\n",
       "      <td>266.6</td>\n",
       "      <td>267.0</td>\n",
       "      <td>0.704698</td>\n",
       "      <td>0.591766</td>\n",
       "      <td>5.0</td>\n",
       "      <td>20.0</td>\n",
       "      <td>33.0</td>\n",
       "      <td>0.88</td>\n",
       "      <td>NaN</td>\n",
       "      <td>189.5</td>\n",
       "      <td>1</td>\n",
       "      <td>NO_ERROR</td>\n",
       "    </tr>\n",
       "    <tr>\n",
       "      <th>2</th>\n",
       "      <td>2</td>\n",
       "      <td>11</td>\n",
       "      <td>2020-01-01 00:20:00+00:00</td>\n",
       "      <td>0.508333</td>\n",
       "      <td>0.182950</td>\n",
       "      <td>270.7</td>\n",
       "      <td>269.4</td>\n",
       "      <td>0.771812</td>\n",
       "      <td>0.647321</td>\n",
       "      <td>5.0</td>\n",
       "      <td>20.0</td>\n",
       "      <td>34.0</td>\n",
       "      <td>0.92</td>\n",
       "      <td>-2.0</td>\n",
       "      <td>190.1</td>\n",
       "      <td>1</td>\n",
       "      <td>NO_ERROR</td>\n",
       "    </tr>\n",
       "    <tr>\n",
       "      <th>3</th>\n",
       "      <td>3</td>\n",
       "      <td>11</td>\n",
       "      <td>2020-01-01 00:30:00+00:00</td>\n",
       "      <td>0.525000</td>\n",
       "      <td>0.218100</td>\n",
       "      <td>272.1</td>\n",
       "      <td>272.7</td>\n",
       "      <td>0.805369</td>\n",
       "      <td>0.676091</td>\n",
       "      <td>5.0</td>\n",
       "      <td>20.0</td>\n",
       "      <td>38.0</td>\n",
       "      <td>0.94</td>\n",
       "      <td>-2.0</td>\n",
       "      <td>190.0</td>\n",
       "      <td>1</td>\n",
       "      <td>NO_ERROR</td>\n",
       "    </tr>\n",
       "    <tr>\n",
       "      <th>4</th>\n",
       "      <td>4</td>\n",
       "      <td>11</td>\n",
       "      <td>2020-01-01 00:40:00+00:00</td>\n",
       "      <td>0.541667</td>\n",
       "      <td>0.234300</td>\n",
       "      <td>279.5</td>\n",
       "      <td>281.1</td>\n",
       "      <td>0.832215</td>\n",
       "      <td>0.700397</td>\n",
       "      <td>5.0</td>\n",
       "      <td>20.0</td>\n",
       "      <td>41.0</td>\n",
       "      <td>0.95</td>\n",
       "      <td>-2.0</td>\n",
       "      <td>189.9</td>\n",
       "      <td>1</td>\n",
       "      <td>NO_ERROR</td>\n",
       "    </tr>\n",
       "    <tr>\n",
       "      <th>...</th>\n",
       "      <td>...</td>\n",
       "      <td>...</td>\n",
       "      <td>...</td>\n",
       "      <td>...</td>\n",
       "      <td>...</td>\n",
       "      <td>...</td>\n",
       "      <td>...</td>\n",
       "      <td>...</td>\n",
       "      <td>...</td>\n",
       "      <td>...</td>\n",
       "      <td>...</td>\n",
       "      <td>...</td>\n",
       "      <td>...</td>\n",
       "      <td>...</td>\n",
       "      <td>...</td>\n",
       "      <td>...</td>\n",
       "      <td>...</td>\n",
       "    </tr>\n",
       "    <tr>\n",
       "      <th>1367185</th>\n",
       "      <td>1367185</td>\n",
       "      <td>29</td>\n",
       "      <td>2021-04-30 22:10:00+00:00</td>\n",
       "      <td>0.253846</td>\n",
       "      <td>0.004242</td>\n",
       "      <td>64.9</td>\n",
       "      <td>65.9</td>\n",
       "      <td>0.525000</td>\n",
       "      <td>0.468333</td>\n",
       "      <td>12.0</td>\n",
       "      <td>42.0</td>\n",
       "      <td>53.0</td>\n",
       "      <td>0.60</td>\n",
       "      <td>-1.7</td>\n",
       "      <td>247.2</td>\n",
       "      <td>2</td>\n",
       "      <td>NO_ERROR</td>\n",
       "    </tr>\n",
       "    <tr>\n",
       "      <th>1367186</th>\n",
       "      <td>1367186</td>\n",
       "      <td>29</td>\n",
       "      <td>2021-04-30 22:20:00+00:00</td>\n",
       "      <td>0.261538</td>\n",
       "      <td>0.007152</td>\n",
       "      <td>64.9</td>\n",
       "      <td>68.5</td>\n",
       "      <td>0.525000</td>\n",
       "      <td>0.466733</td>\n",
       "      <td>11.0</td>\n",
       "      <td>42.0</td>\n",
       "      <td>53.0</td>\n",
       "      <td>0.90</td>\n",
       "      <td>-1.8</td>\n",
       "      <td>246.8</td>\n",
       "      <td>2</td>\n",
       "      <td>NO_ERROR</td>\n",
       "    </tr>\n",
       "    <tr>\n",
       "      <th>1367187</th>\n",
       "      <td>1367187</td>\n",
       "      <td>29</td>\n",
       "      <td>2021-04-30 22:30:00+00:00</td>\n",
       "      <td>0.261538</td>\n",
       "      <td>0.007970</td>\n",
       "      <td>64.9</td>\n",
       "      <td>65.2</td>\n",
       "      <td>0.525000</td>\n",
       "      <td>0.466733</td>\n",
       "      <td>11.0</td>\n",
       "      <td>43.0</td>\n",
       "      <td>54.0</td>\n",
       "      <td>0.90</td>\n",
       "      <td>-1.7</td>\n",
       "      <td>247.0</td>\n",
       "      <td>2</td>\n",
       "      <td>NO_ERROR</td>\n",
       "    </tr>\n",
       "    <tr>\n",
       "      <th>1367188</th>\n",
       "      <td>1367188</td>\n",
       "      <td>29</td>\n",
       "      <td>2021-04-30 22:40:00+00:00</td>\n",
       "      <td>0.307692</td>\n",
       "      <td>0.030394</td>\n",
       "      <td>64.9</td>\n",
       "      <td>62.1</td>\n",
       "      <td>0.525000</td>\n",
       "      <td>0.468933</td>\n",
       "      <td>11.0</td>\n",
       "      <td>43.0</td>\n",
       "      <td>55.0</td>\n",
       "      <td>1.00</td>\n",
       "      <td>-2.5</td>\n",
       "      <td>246.9</td>\n",
       "      <td>2</td>\n",
       "      <td>NO_ERROR</td>\n",
       "    </tr>\n",
       "    <tr>\n",
       "      <th>1367189</th>\n",
       "      <td>1367189</td>\n",
       "      <td>29</td>\n",
       "      <td>2021-04-30 22:50:00+00:00</td>\n",
       "      <td>0.361538</td>\n",
       "      <td>0.055182</td>\n",
       "      <td>64.9</td>\n",
       "      <td>63.3</td>\n",
       "      <td>0.575000</td>\n",
       "      <td>0.516467</td>\n",
       "      <td>11.0</td>\n",
       "      <td>43.0</td>\n",
       "      <td>56.0</td>\n",
       "      <td>1.00</td>\n",
       "      <td>-2.8</td>\n",
       "      <td>246.9</td>\n",
       "      <td>2</td>\n",
       "      <td>NO_ERROR</td>\n",
       "    </tr>\n",
       "  </tbody>\n",
       "</table>\n",
       "<p>1367190 rows × 17 columns</p>\n",
       "</div>"
      ],
      "text/plain": [
       "           index  turbine_id                measured_at  wind_speed     power  \\\n",
       "0              0          11  2020-01-01 00:00:00+00:00    0.433333  0.121250   \n",
       "1              1          11  2020-01-01 00:10:00+00:00    0.458333  0.138750   \n",
       "2              2          11  2020-01-01 00:20:00+00:00    0.508333  0.182950   \n",
       "3              3          11  2020-01-01 00:30:00+00:00    0.525000  0.218100   \n",
       "4              4          11  2020-01-01 00:40:00+00:00    0.541667  0.234300   \n",
       "...          ...         ...                        ...         ...       ...   \n",
       "1367185  1367185          29  2021-04-30 22:10:00+00:00    0.253846  0.004242   \n",
       "1367186  1367186          29  2021-04-30 22:20:00+00:00    0.261538  0.007152   \n",
       "1367187  1367187          29  2021-04-30 22:30:00+00:00    0.261538  0.007970   \n",
       "1367188  1367188          29  2021-04-30 22:40:00+00:00    0.307692  0.030394   \n",
       "1367189  1367189          29  2021-04-30 22:50:00+00:00    0.361538  0.055182   \n",
       "\n",
       "         nacelle_direction  wind_direction  rotor_speed  generator_speed  \\\n",
       "0                    266.0           266.3     0.677852         0.569444   \n",
       "1                    266.6           267.0     0.704698         0.591766   \n",
       "2                    270.7           269.4     0.771812         0.647321   \n",
       "3                    272.1           272.7     0.805369         0.676091   \n",
       "4                    279.5           281.1     0.832215         0.700397   \n",
       "...                    ...             ...          ...              ...   \n",
       "1367185               64.9            65.9     0.525000         0.468333   \n",
       "1367186               64.9            68.5     0.525000         0.466733   \n",
       "1367187               64.9            65.2     0.525000         0.466733   \n",
       "1367188               64.9            62.1     0.525000         0.468933   \n",
       "1367189               64.9            63.3     0.575000         0.516467   \n",
       "\n",
       "         temp_environment  temp_hydraulic_oil  temp_gear_bearing  cosphi  \\\n",
       "0                     5.0                20.0               32.0    0.85   \n",
       "1                     5.0                20.0               33.0    0.88   \n",
       "2                     5.0                20.0               34.0    0.92   \n",
       "3                     5.0                20.0               38.0    0.94   \n",
       "4                     5.0                20.0               41.0    0.95   \n",
       "...                   ...                 ...                ...     ...   \n",
       "1367185              12.0                42.0               53.0    0.60   \n",
       "1367186              11.0                42.0               53.0    0.90   \n",
       "1367187              11.0                43.0               54.0    0.90   \n",
       "1367188              11.0                43.0               55.0    1.00   \n",
       "1367189              11.0                43.0               56.0    1.00   \n",
       "\n",
       "         blade_angle_avg  hydraulic_pressure  park_id error_category  \n",
       "0                   -1.9               189.2        1       NO_ERROR  \n",
       "1                    NaN               189.5        1       NO_ERROR  \n",
       "2                   -2.0               190.1        1       NO_ERROR  \n",
       "3                   -2.0               190.0        1       NO_ERROR  \n",
       "4                   -2.0               189.9        1       NO_ERROR  \n",
       "...                  ...                 ...      ...            ...  \n",
       "1367185             -1.7               247.2        2       NO_ERROR  \n",
       "1367186             -1.8               246.8        2       NO_ERROR  \n",
       "1367187             -1.7               247.0        2       NO_ERROR  \n",
       "1367188             -2.5               246.9        2       NO_ERROR  \n",
       "1367189             -2.8               246.9        2       NO_ERROR  \n",
       "\n",
       "[1367190 rows x 17 columns]"
      ]
     },
     "execution_count": 3,
     "metadata": {},
     "output_type": "execute_result"
    }
   ],
   "source": [
    "data_miss"
   ]
  },
  {
   "cell_type": "markdown",
   "metadata": {},
   "source": [
    "Missing data given as NaN\n",
    "\n",
    "Missing values are only present for wind_speed, power, rotor_speed, generator_speed, temp_environment, temp_hydraulic_oil, temp_gear_bearing, blade_angle_avg"
   ]
  },
  {
   "cell_type": "code",
   "execution_count": 13,
   "metadata": {},
   "outputs": [
    {
     "name": "stdout",
     "output_type": "stream",
     "text": [
      "[('index', 0), ('turbine_id', 0), ('measured_at', 0), ('wind_speed', 101176), ('power', 58136), ('nacelle_direction', 0), ('wind_direction', 0), ('rotor_speed', 96922), ('generator_speed', 98536), ('temp_environment', 71404), ('temp_hydraulic_oil', 71558), ('temp_gear_bearing', 70575), ('cosphi', 0), ('blade_angle_avg', 187489), ('hydraulic_pressure', 0), ('park_id', 0), ('error_category', 0)]\n"
     ]
    }
   ],
   "source": [
    "n_miss = np.sum(np.asarray(data_miss.isna()), axis=0)\n",
    "keys_miss = data_miss.keys()\n",
    "comb = list(zip(keys_miss, n_miss))\n",
    "print(comb)"
   ]
  },
  {
   "cell_type": "code",
   "execution_count": 3,
   "metadata": {},
   "outputs": [
    {
     "data": {
      "text/plain": [
       "(array([4.26325e+05, 9.55850e+04, 3.11390e+04, 1.07220e+04, 9.20000e+01,\n",
       "        7.00000e+00]),\n",
       " array([0.5       , 1.66666667, 2.83333333, 4.        , 5.16666667,\n",
       "        6.33333333, 7.5       ]),\n",
       " <BarContainer object of 6 artists>)"
      ]
     },
     "execution_count": 3,
     "metadata": {},
     "output_type": "execute_result"
    },
    {
     "data": {
      "image/png": "[encoded data removed]",
      "text/plain": [
       "<Figure size 432x288 with 1 Axes>"
      ]
     },
     "metadata": {
      "needs_background": "light"
     },
     "output_type": "display_data"
    }
   ],
   "source": [
    "import matplotlib.pyplot as plt\n",
    "plt.hist(np.sum(np.asarray(data_miss.isna()), axis=1), bins=np.linspace(0.5, 7.5, 7))"
   ]
  },
  {
   "cell_type": "code",
   "execution_count": null,
   "metadata": {},
   "outputs": [],
   "source": []
  },
  {
   "cell_type": "markdown",
   "metadata": {},
   "source": [
    "how many are missing in a row\n",
    "\n",
    "there is a lot of data missing typically and a lot in a row\n"
   ]
  },
  {
   "cell_type": "code",
   "execution_count": 97,
   "metadata": {},
   "outputs": [
    {
     "data": {
      "image/png": "[encoded data removed]",
      "text/plain": [
       "<Figure size 2880x2880 with 1 Axes>"
      ]
     },
     "metadata": {
      "needs_background": "light"
     },
     "output_type": "display_data"
    }
   ],
   "source": [
    "data_miss[\"date\"] = pd.to_datetime(data_miss[\"measured_at\"]).view(int)/ 10**9 / 60. # in minutes\n",
    "min_min = np.min(data_miss[\"date\"])\n",
    "data_miss[\"date\"] = data_miss[\"date\"] - min_min\n",
    "data_miss = data_miss.sort_values(by='date')\n",
    "labels = ['wind_speed', 'power', 'rotor_speed', 'generator_speed', 'temp_environment', 'temp_hydraulic_oil', 'temp_gear_bearing', 'blade_angle_avg']\n",
    "fig = plt.figure(figsize=(40, 40))\n",
    "for lidx, l in enumerate(labels):\n",
    "    col = data_miss['wind_speed'][data_miss['turbine_id'] == 14]\n",
    "    mis_idxs = np.where(np.isnan(np.asarray(col)))[0]\n",
    "    plt.scatter(np.full((mis_idxs.size,), lidx), mis_idxs)"
   ]
  },
  {
   "cell_type": "code",
   "execution_count": 94,
   "metadata": {},
   "outputs": [
    {
     "data": {
      "text/plain": [
       "index                                    399955\n",
       "turbine_id                                   22\n",
       "measured_at           2019-01-01 05:50:00+00:00\n",
       "wind_speed                             0.330769\n",
       "power                                  0.054606\n",
       "nacelle_direction                          55.9\n",
       "wind_direction                             57.2\n",
       "rotor_speed                            0.558333\n",
       "generator_speed                        0.502933\n",
       "temp_environment                            8.0\n",
       "temp_hydraulic_oil                         42.0\n",
       "temp_gear_bearing                          59.0\n",
       "cosphi                                      1.0\n",
       "blade_angle_avg                            -2.6\n",
       "hydraulic_pressure                        246.9\n",
       "park_id                                       2\n",
       "error_category                         NO_ERROR\n",
       "date                                      350.0\n",
       "Name: 399955, dtype: object"
      ]
     },
     "execution_count": 94,
     "metadata": {},
     "output_type": "execute_result"
    }
   ],
   "source": [
    "data_miss.iloc[315]"
   ]
  },
  {
   "cell_type": "markdown",
   "metadata": {},
   "source": [
    "# 1st Try with kNN"
   ]
  },
  {
   "cell_type": "markdown",
   "metadata": {},
   "source": [
    "Implement kNN for each individual turbine. Distance is given by time and target by the 8 possible missing values"
   ]
  },
  {
   "cell_type": "code",
   "execution_count": 8,
   "metadata": {},
   "outputs": [],
   "source": [
    "from sklearn.neighbors import KNeighborsRegressor\n",
    "from sklearn.preprocessing import Normalizer"
   ]
  },
  {
   "cell_type": "code",
   "execution_count": 6,
   "metadata": {},
   "outputs": [],
   "source": [
    "# convert to minute time stamp\n",
    "data_full[\"date\"] = pd.to_datetime(data_full[\"measured_at\"]).view(int)/ 10**9 / 60. # in minutes\n",
    "min_min = np.min(data_full[\"date\"])\n",
    "data_full[\"date\"] = data_full[\"date\"] - min_min"
   ]
  },
  {
   "cell_type": "code",
   "execution_count": 50,
   "metadata": {},
   "outputs": [
    {
     "name": "stdout",
     "output_type": "stream",
     "text": [
      "2 , [2.44248476e-07 3.75642563e-07 7.43863832e-07 5.00334809e-07\n",
      " 2.60174448e-05 6.50649532e-05 9.57722587e-05 1.23408538e-03]\n",
      "3 , [2.38750264e-07 3.64907381e-07 6.72200013e-07 4.51596796e-07\n",
      " 2.39690880e-05 5.51127407e-05 7.92074383e-05 1.08566449e-03]\n",
      "4 , [3.80490462e-07 5.87753159e-07 1.13989706e-06 7.67561938e-07\n",
      " 3.90332827e-05 9.74884979e-05 1.42625216e-04 1.86177381e-03]\n",
      "5 , [4.31408151e-07 6.68296819e-07 1.31868318e-06 8.88436814e-07\n",
      " 4.30437648e-05 1.09765408e-04 1.62909996e-04 2.16472798e-03]\n",
      "6 , [5.34585286e-07 8.30965059e-07 1.66582856e-06 1.12353106e-06\n",
      " 5.51400544e-05 1.45079965e-04 2.16378912e-04 2.75773364e-03]\n",
      "7 , [5.86369215e-07 9.14217854e-07 1.83328619e-06 1.23756300e-06\n",
      " 6.06625497e-05 1.61796889e-04 2.39950291e-04 3.04910984e-03]\n",
      "8 , [6.68366579e-07 1.04194538e-06 2.11596663e-06 1.42870966e-06\n",
      " 7.09330407e-05 1.91773667e-04 2.86434038e-04 3.53740073e-03]\n",
      "9 , [7.18429142e-07 1.12236130e-06 2.27303994e-06 1.53543150e-06\n",
      " 7.66374001e-05 2.09926343e-04 3.10910661e-04 3.81414187e-03]\n"
     ]
    }
   ],
   "source": [
    "for ns in range(2, 10):\n",
    "    # optimize n neighbors\n",
    "    neigh = KNeighborsRegressor(n_neighbors=ns)\n",
    "\n",
    "    ids = np.where(data_full['turbine_id'] == 11)[0]\n",
    "    data_train = data_full.loc[ids]\n",
    "    X = np.asarray(data_train['date']).reshape(-1, 1)\n",
    "    Y = np.asarray(data_train[['wind_speed', 'power', 'rotor_speed', 'generator_speed', 'temp_environment', 'temp_hydraulic_oil', 'temp_gear_bearing', 'blade_angle_avg']])\n",
    "    transformer = Normalizer().fit(Y)\n",
    "    Y = transformer.transform(Y)\n",
    "    \n",
    "    neigh.fit(X, Y)\n",
    "    err = np.mean(np.power((Y - neigh.predict(X)), 2.), axis=0)\n",
    "    var = np.var(Y, axis=0)\n",
    "    print(f\"{ns} , {err}\")"
   ]
  },
  {
   "cell_type": "code",
   "execution_count": 75,
   "metadata": {},
   "outputs": [
    {
     "name": "stdout",
     "output_type": "stream",
     "text": [
      "  1.4% | [..........] | Progress: 1000 / 69613 | Time: 16.5s | ETA: 18min52s1 , [6.58725058e-07 1.52129964e-06 1.00326971e-06 6.99030355e-07\n",
      " 4.31467981e-05 1.05192983e-04 7.26728583e-05 8.56101247e-04]\n",
      "  1.4% | [..........] | Progress: 1000 / 69613 | Time: 17.4s | ETA: 19min51s2 , [3.18561317e-07 7.37957731e-07 5.28149277e-07 3.62940444e-07\n",
      " 2.05067502e-05 3.73645746e-05 3.45898930e-05 5.64333233e-04]\n",
      "  1.4% | [..........] | Progress: 1001 / 69613 | Time: 17.3s | ETA: 19min45s3 , [4.46585321e-07 1.06571143e-06 8.50014935e-07 5.87212553e-07\n",
      " 2.62682744e-05 6.94988000e-05 6.04782579e-05 9.37067245e-04]\n",
      "  1.4% | [..........] | Progress: 1000 / 69613 | Time: 18.3s | ETA: 20min59s4 , [4.53424905e-07 1.06053064e-06 8.78412794e-07 6.06363827e-07\n",
      " 2.56432257e-05 6.59557443e-05 6.22877945e-05 9.87981373e-04]\n",
      "  1.4% | [..........] | Progress: 1001 / 69613 | Time: 19.0s | ETA: 21min40s5 , [5.52418858e-07 1.32741981e-06 1.06477240e-06 7.37638333e-07\n",
      " 3.08664759e-05 9.53971750e-05 8.20179508e-05 1.21709271e-03]\n",
      "  1.4% | [..........] | Progress: 976 / 69613 | Time: 18.4s | ETA: 21min37s"
     ]
    },
    {
     "ename": "KeyboardInterrupt",
     "evalue": "",
     "output_type": "error",
     "traceback": [
      "\u001b[0;31m---------------------------------------------------------------------------\u001b[0m",
      "\u001b[0;31mKeyboardInterrupt\u001b[0m                         Traceback (most recent call last)",
      "\u001b[0;32m/tmp/ipykernel_173673/1621292803.py\u001b[0m in \u001b[0;36m<module>\u001b[0;34m\u001b[0m\n\u001b[1;32m     13\u001b[0m         \u001b[0;32mif\u001b[0m \u001b[0mix\u001b[0m \u001b[0;34m==\u001b[0m \u001b[0;36m1000\u001b[0m\u001b[0;34m:\u001b[0m\u001b[0;34m\u001b[0m\u001b[0;34m\u001b[0m\u001b[0m\n\u001b[1;32m     14\u001b[0m             \u001b[0;32mbreak\u001b[0m\u001b[0;34m\u001b[0m\u001b[0;34m\u001b[0m\u001b[0m\n\u001b[0;32m---> 15\u001b[0;31m         \u001b[0mneigh\u001b[0m\u001b[0;34m.\u001b[0m\u001b[0mfit\u001b[0m\u001b[0;34m(\u001b[0m\u001b[0mnp\u001b[0m\u001b[0;34m.\u001b[0m\u001b[0mdelete\u001b[0m\u001b[0;34m(\u001b[0m\u001b[0mX\u001b[0m\u001b[0;34m,\u001b[0m \u001b[0mix\u001b[0m\u001b[0;34m,\u001b[0m \u001b[0maxis\u001b[0m\u001b[0;34m=\u001b[0m\u001b[0;36m0\u001b[0m\u001b[0;34m)\u001b[0m\u001b[0;34m,\u001b[0m \u001b[0mnp\u001b[0m\u001b[0;34m.\u001b[0m\u001b[0mdelete\u001b[0m\u001b[0;34m(\u001b[0m\u001b[0mY\u001b[0m\u001b[0;34m,\u001b[0m \u001b[0mix\u001b[0m\u001b[0;34m,\u001b[0m \u001b[0maxis\u001b[0m\u001b[0;34m=\u001b[0m\u001b[0;36m0\u001b[0m\u001b[0;34m)\u001b[0m\u001b[0;34m)\u001b[0m\u001b[0;34m\u001b[0m\u001b[0;34m\u001b[0m\u001b[0m\n\u001b[0m\u001b[1;32m     16\u001b[0m         \u001b[0mprediction\u001b[0m\u001b[0;34m[\u001b[0m\u001b[0mix\u001b[0m\u001b[0;34m]\u001b[0m \u001b[0;34m=\u001b[0m \u001b[0mneigh\u001b[0m\u001b[0;34m.\u001b[0m\u001b[0mpredict\u001b[0m\u001b[0;34m(\u001b[0m\u001b[0mX\u001b[0m\u001b[0;34m[\u001b[0m\u001b[0mix\u001b[0m\u001b[0;34m]\u001b[0m\u001b[0;34m.\u001b[0m\u001b[0mreshape\u001b[0m\u001b[0;34m(\u001b[0m\u001b[0;34m-\u001b[0m\u001b[0;36m1\u001b[0m\u001b[0;34m,\u001b[0m \u001b[0;36m1\u001b[0m\u001b[0;34m)\u001b[0m\u001b[0;34m)\u001b[0m\u001b[0;34m\u001b[0m\u001b[0;34m\u001b[0m\u001b[0m\n\u001b[1;32m     17\u001b[0m     \u001b[0merr\u001b[0m \u001b[0;34m=\u001b[0m \u001b[0mnp\u001b[0m\u001b[0;34m.\u001b[0m\u001b[0mmean\u001b[0m\u001b[0;34m(\u001b[0m\u001b[0mnp\u001b[0m\u001b[0;34m.\u001b[0m\u001b[0mpower\u001b[0m\u001b[0;34m(\u001b[0m\u001b[0;34m(\u001b[0m\u001b[0mY\u001b[0m\u001b[0;34m[\u001b[0m\u001b[0;34m:\u001b[0m\u001b[0;36m1000\u001b[0m\u001b[0;34m]\u001b[0m \u001b[0;34m-\u001b[0m \u001b[0mprediction\u001b[0m\u001b[0;34m)\u001b[0m\u001b[0;34m,\u001b[0m \u001b[0;36m2.\u001b[0m\u001b[0;34m)\u001b[0m\u001b[0;34m,\u001b[0m \u001b[0maxis\u001b[0m\u001b[0;34m=\u001b[0m\u001b[0;36m0\u001b[0m\u001b[0;34m)\u001b[0m\u001b[0;34m\u001b[0m\u001b[0;34m\u001b[0m\u001b[0m\n",
      "\u001b[0;32m~/Documents/repos/venv_3.10/lib/python3.10/site-packages/sklearn/neighbors/_regression.py\u001b[0m in \u001b[0;36mfit\u001b[0;34m(self, X, y)\u001b[0m\n\u001b[1;32m    211\u001b[0m         \u001b[0mself\u001b[0m\u001b[0;34m.\u001b[0m\u001b[0mweights\u001b[0m \u001b[0;34m=\u001b[0m \u001b[0m_check_weights\u001b[0m\u001b[0;34m(\u001b[0m\u001b[0mself\u001b[0m\u001b[0;34m.\u001b[0m\u001b[0mweights\u001b[0m\u001b[0;34m)\u001b[0m\u001b[0;34m\u001b[0m\u001b[0;34m\u001b[0m\u001b[0m\n\u001b[1;32m    212\u001b[0m \u001b[0;34m\u001b[0m\u001b[0m\n\u001b[0;32m--> 213\u001b[0;31m         \u001b[0;32mreturn\u001b[0m \u001b[0mself\u001b[0m\u001b[0;34m.\u001b[0m\u001b[0m_fit\u001b[0m\u001b[0;34m(\u001b[0m\u001b[0mX\u001b[0m\u001b[0;34m,\u001b[0m \u001b[0my\u001b[0m\u001b[0;34m)\u001b[0m\u001b[0;34m\u001b[0m\u001b[0;34m\u001b[0m\u001b[0m\n\u001b[0m\u001b[1;32m    214\u001b[0m \u001b[0;34m\u001b[0m\u001b[0m\n\u001b[1;32m    215\u001b[0m     \u001b[0;32mdef\u001b[0m \u001b[0mpredict\u001b[0m\u001b[0;34m(\u001b[0m\u001b[0mself\u001b[0m\u001b[0;34m,\u001b[0m \u001b[0mX\u001b[0m\u001b[0;34m)\u001b[0m\u001b[0;34m:\u001b[0m\u001b[0;34m\u001b[0m\u001b[0;34m\u001b[0m\u001b[0m\n",
      "\u001b[0;32m~/Documents/repos/venv_3.10/lib/python3.10/site-packages/sklearn/neighbors/_base.py\u001b[0m in \u001b[0;36m_fit\u001b[0;34m(self, X, y)\u001b[0m\n\u001b[1;32m    554\u001b[0m             )\n\u001b[1;32m    555\u001b[0m         \u001b[0;32melif\u001b[0m \u001b[0mself\u001b[0m\u001b[0;34m.\u001b[0m\u001b[0m_fit_method\u001b[0m \u001b[0;34m==\u001b[0m \u001b[0;34m\"kd_tree\"\u001b[0m\u001b[0;34m:\u001b[0m\u001b[0;34m\u001b[0m\u001b[0;34m\u001b[0m\u001b[0m\n\u001b[0;32m--> 556\u001b[0;31m             self._tree = KDTree(\n\u001b[0m\u001b[1;32m    557\u001b[0m                 \u001b[0mX\u001b[0m\u001b[0;34m,\u001b[0m\u001b[0;34m\u001b[0m\u001b[0;34m\u001b[0m\u001b[0m\n\u001b[1;32m    558\u001b[0m                 \u001b[0mself\u001b[0m\u001b[0;34m.\u001b[0m\u001b[0mleaf_size\u001b[0m\u001b[0;34m,\u001b[0m\u001b[0;34m\u001b[0m\u001b[0;34m\u001b[0m\u001b[0m\n",
      "\u001b[0;31mKeyboardInterrupt\u001b[0m: "
     ]
    }
   ],
   "source": [
    "# optimize n neighbors\n",
    "for ns in range(1, 10):\n",
    "    ids = np.where(data_full['turbine_id'] == 11)[0]\n",
    "    data_train = data_full.loc[ids]\n",
    "    X = np.asarray(data_train['date']).reshape(-1, 1)\n",
    "    Y = np.asarray(data_train[['wind_speed', 'power', 'rotor_speed', 'generator_speed', 'temp_environment', 'temp_hydraulic_oil', 'temp_gear_bearing', 'blade_angle_avg']])\n",
    "    transformer = Normalizer().fit(Y)\n",
    "    Y = transformer.transform(Y)\n",
    "\n",
    "    prediction = np.zeros((1000, 8))\n",
    "    for ix in frogress.bar(range(X.shape[0])):\n",
    "        neigh = KNeighborsRegressor(n_neighbors=ns)\n",
    "        if ix == 1000:\n",
    "            break\n",
    "        neigh.fit(np.delete(X, ix, axis=0), np.delete(Y, ix, axis=0))\n",
    "        prediction[ix] = neigh.predict(X[ix].reshape(-1, 1))\n",
    "    err = np.mean(np.power((Y[:1000] - prediction), 2.), axis=0)\n",
    "    print(f\"{ns} , {err}\")"
   ]
  },
  {
   "cell_type": "markdown",
   "metadata": {},
   "source": [
    "kNN is pretty good as a first guess except for blade_angle_avg and maybe temp_gear_bearing\n",
    "\n",
    "n_neighbours=2 performs best\n",
    "\n",
    "weights=distance is better than uniform\n",
    "\n",
    "\n",
    "\n",
    "\n",
    "so far only using data from previous values.\n",
    "\n",
    "\n",
    "How to use correlation with other values? / Other turbines in the windpark?\n",
    "\n",
    "For environmental variables: temp_environment and wind_speed"
   ]
  },
  {
   "cell_type": "markdown",
   "metadata": {},
   "source": [
    "## 2. Try use data from all turbines in the windpark to build kNN"
   ]
  },
  {
   "cell_type": "code",
   "execution_count": 28,
   "metadata": {},
   "outputs": [
    {
     "name": "stdout",
     "output_type": "stream",
     "text": [
      "2 , [32.01594472 26.32283827 36.41641729 36.85919201 16.42828787 82.11788942\n",
      " 57.00932915 50.27242905]\n",
      "3 , [29.42086844 24.0974696  34.0181638  34.42204791 15.4761265  75.41546943\n",
      " 52.34982223 46.97207576]\n",
      "4 , [28.3905816  23.27870416 33.32424714 33.70949189 15.04033631 68.10563306\n",
      " 49.04455125 45.69691895]\n",
      "5 , [28.3905816  23.27870416 33.32424714 33.70949189 15.04033631 68.10563306\n",
      " 49.04455125 45.69691895]\n",
      "6 , [28.3905816  23.27870416 33.32424714 33.70949189 15.04033631 68.10563306\n",
      " 49.04455125 45.69691895]\n",
      "7 , [28.3905816  23.27870416 33.32424714 33.70949189 15.04033631 68.10563306\n",
      " 49.04455125 45.69691895]\n",
      "8 , [28.3905816  23.27870416 33.32424714 33.70949189 15.04033631 68.10563306\n",
      " 49.04455125 45.69691895]\n",
      "9 , [28.3905816  23.27870416 33.32424714 33.70949189 15.04033631 68.10563306\n",
      " 49.04455125 45.69691895]\n"
     ]
    }
   ],
   "source": [
    "for ns in range(2, 10):\n",
    "    # optimize n neighbors\n",
    "    neigh = KNeighborsRegressor(n_neighbors=ns)\n",
    "\n",
    "    ids = np.where(data_full['park_id'] == 1)[0]\n",
    "    data_train = data_full.loc[ids]\n",
    "    X = np.asarray(data_train['date']).reshape(-1, 1)\n",
    "    Y = np.asarray(data_train[['wind_speed', 'power', 'rotor_speed', 'generator_speed', 'temp_environment', 'temp_hydraulic_oil', 'temp_gear_bearing', 'blade_angle_avg']])\n",
    "    transformer = Normalizer().fit(Y)\n",
    "    Y = transformer.transform(Y)\n",
    "    neigh.fit(X, Y)\n",
    "\n",
    "    # validation\n",
    "    ids = np.where(data_full['turbine_id'] == 11)[0]\n",
    "    data_test = data_full.loc[ids]\n",
    "    X = np.asarray(data_test['date']).reshape(-1, 1)\n",
    "    Y = np.asarray(data_test[['wind_speed', 'power', 'rotor_speed', 'generator_speed', 'temp_environment', 'temp_hydraulic_oil', 'temp_gear_bearing', 'blade_angle_avg']])\n",
    "    Y = transformer.transform(Y)\n",
    "    err = np.mean(np.power((Y - neigh.predict(X)), 2.), axis=0)\n",
    "    var = np.var(Y, axis=0)\n",
    "    # print(f\"{ns} , {np.sqrt(err / var) * 100}\")\n",
    "    print(f\"{ns} , {err}\")"
   ]
  },
  {
   "cell_type": "markdown",
   "metadata": {},
   "source": [
    "Fail, that is much worse than before"
   ]
  },
  {
   "cell_type": "markdown",
   "metadata": {},
   "source": [
    "# Check spatial correlation of wind speed"
   ]
  },
  {
   "cell_type": "code",
   "execution_count": 18,
   "metadata": {},
   "outputs": [
    {
     "name": "stdout",
     "output_type": "stream",
     "text": [
      "69588 69588\n"
     ]
    }
   ],
   "source": [
    "data_sort = data_full.sort_values(by='date')\n",
    "idx11 = np.where(data_full['turbine_id'] == 11)[0]\n",
    "idx12 = np.where(data_full['turbine_id'] == 13)[0]\n",
    "missing_in_12 = np.setdiff1d(np.asarray(data_sort['date'][idx11]), np.asarray(data_sort['date'][idx12]))\n",
    "missing_in_11 = np.setdiff1d(np.asarray(data_sort['date'][idx12]), np.asarray(data_sort['date'][idx11]))\n",
    "missing = np.unique(np.append(missing_in_11, missing_in_12))\n",
    "idx11 = np.where(np.logical_and(data_full['turbine_id'] == 11, np.logical_not(np.isin(data_full['date'], missing))))[0]\n",
    "idx12 = np.where(np.logical_and(data_full['turbine_id'] == 13, np.logical_not(np.isin(data_full['date'], missing))))[0]\n",
    "print(len(idx11), len(idx12))\n",
    "wind11 = data_sort['wind_speed'][idx11]\n",
    "wind12 = data_sort['wind_speed'][idx12]"
   ]
  },
  {
   "cell_type": "code",
   "execution_count": 19,
   "metadata": {},
   "outputs": [],
   "source": [
    "random_indices = np.random.choice(wind11.shape[0], size=10000, replace=False)\n",
    "comb = np.hstack((np.asarray(wind11).reshape(-1, 1), np.asarray(wind12).reshape(-1, 1)))\n",
    "\n",
    "coeff = np.corrcoef(comb[random_indices], rowvar=False)"
   ]
  },
  {
   "cell_type": "code",
   "execution_count": 20,
   "metadata": {},
   "outputs": [
    {
     "data": {
      "text/plain": [
       "array([[1.        , 0.95367573],\n",
       "       [0.95367573, 1.        ]])"
      ]
     },
     "execution_count": 20,
     "metadata": {},
     "output_type": "execute_result"
    }
   ],
   "source": [
    "coeff"
   ]
  },
  {
   "cell_type": "code",
   "execution_count": 13,
   "metadata": {},
   "outputs": [
    {
     "data": {
      "text/plain": [
       "<matplotlib.image.AxesImage at 0x7f225dd17e50>"
      ]
     },
     "execution_count": 13,
     "metadata": {},
     "output_type": "execute_result"
    },
    {
     "data": {
      "image/png": "[encoded data removed]",
      "text/plain": [
       "<Figure size 432x288 with 1 Axes>"
      ]
     },
     "metadata": {
      "needs_background": "light"
     },
     "output_type": "display_data"
    }
   ],
   "source": [
    "import matplotlib.pyplot as plt\n",
    "plt.imshow(coeff)"
   ]
  },
  {
   "cell_type": "markdown",
   "metadata": {},
   "source": [
    "Wind speed is strongly correlated between different turbines in 1 parc -> spatial correlation should help"
   ]
  },
  {
   "cell_type": "markdown",
   "metadata": {},
   "source": [
    "# 4) Predict from other turbines in the parc"
   ]
  },
  {
   "cell_type": "markdown",
   "metadata": {},
   "source": [
    "very simple, for environement variables simply use average of values in the parc at the same time "
   ]
  },
  {
   "cell_type": "code",
   "execution_count": 45,
   "metadata": {},
   "outputs": [],
   "source": [
    "# training data\n",
    "ids = np.where(np.logical_and(data_full['park_id'] == 1, data_full['turbine_id'] != 11))[0]\n",
    "data_train = data_full.loc[ids]\n",
    "X = np.asarray(data_train['date']).reshape(-1, 1)\n",
    "Y = np.asarray(data_train[['wind_speed', 'power', 'rotor_speed', 'generator_speed', 'temp_environment', 'temp_hydraulic_oil', 'temp_gear_bearing', 'blade_angle_avg']])\n",
    "transformer = Normalizer().fit(Y)\n",
    "Y = transformer.transform(Y)\n"
   ]
  },
  {
   "cell_type": "code",
   "execution_count": 46,
   "metadata": {},
   "outputs": [],
   "source": [
    "\n",
    "ids = np.where(data_full['turbine_id'] == 11)[0]\n",
    "data_train = data_full.loc[ids]\n",
    "X_test = np.asarray(data_train['date']).reshape(-1, 1)\n",
    "Y_test = np.asarray(data_train[['wind_speed', 'power', 'rotor_speed', 'generator_speed', 'temp_environment', 'temp_hydraulic_oil', 'temp_gear_bearing', 'blade_angle_avg']])\n",
    "Y_test = transformer.transform(Y_test)"
   ]
  },
  {
   "cell_type": "code",
   "execution_count": 37,
   "metadata": {},
   "outputs": [
    {
     "name": "stdout",
     "output_type": "stream",
     "text": [
      "[##########] | Progress: 69613 | Time: 2min51s | ETA: --"
     ]
    }
   ],
   "source": [
    "prediction = np.zeros((X_test.shape[0],8))\n",
    "import frogress\n",
    "for ix, x in frogress.bar(enumerate(X_test)):\n",
    "    close_turbines = np.isclose(X, x)\n",
    "    pred = np.mean(Y[close_turbines.ravel(), :], axis=0)\n",
    "    prediction[ix] = pred"
   ]
  },
  {
   "cell_type": "code",
   "execution_count": 47,
   "metadata": {},
   "outputs": [
    {
     "name": "stdout",
     "output_type": "stream",
     "text": [
      "[1.91314415e-06 1.89377156e-06 6.96640725e-06 4.83596561e-06\n",
      " 5.64049030e-04 3.90471792e-03 4.60406325e-03 1.47296167e-02]\n"
     ]
    }
   ],
   "source": [
    "err = np.mean(np.power((Y_test - prediction), 2.), axis=0)\n",
    "var = np.var(Y, axis=0)\n",
    "print(f\"{err}\")"
   ]
  },
  {
   "cell_type": "markdown",
   "metadata": {},
   "source": [
    "Predicting from kNN is better.\n",
    "\n",
    "Unfortunately, kNN will not work well since usually long chains are missing.\n",
    "\n",
    "Use kNN for single missing values though."
   ]
  },
  {
   "cell_type": "markdown",
   "metadata": {},
   "source": [
    "# 5) xgboost"
   ]
  },
  {
   "cell_type": "code",
   "execution_count": 18,
   "metadata": {},
   "outputs": [],
   "source": [
    "attributes = ['wind_speed', 'power', 'rotor_speed', 'generator_speed', 'temp_environment', 'temp_hydraulic_oil', 'temp_gear_bearing', 'blade_angle_avg']"
   ]
  },
  {
   "cell_type": "code",
   "execution_count": 19,
   "metadata": {},
   "outputs": [],
   "source": [
    "ids = np.where(data_full['turbine_id'] == 11)[0]\n",
    "data_train = data_full.loc[ids]\n",
    "# X = np.asarray(data_train['date']).reshape(-1, 1)\n",
    "Y = np.asarray(data_train[['wind_speed', 'power', 'rotor_speed', 'generator_speed', 'temp_environment', 'temp_hydraulic_oil', 'temp_gear_bearing', 'blade_angle_avg']])\n",
    "transformer = Normalizer().fit(Y)\n",
    "Y = transformer.transform(Y)"
   ]
  },
  {
   "cell_type": "code",
   "execution_count": 22,
   "metadata": {},
   "outputs": [
    {
     "name": "stdout",
     "output_type": "stream",
     "text": [
      "wind_speed: 9.946953720885588e-08\n",
      "power: 2.892774364992313e-07\n",
      "rotor_speed: 1.3303000840545725e-08\n",
      "generator_speed: 1.6132438677534424e-08\n",
      "temp_environment: 0.000310088585428031\n",
      "temp_hydraulic_oil: 1.3367431767655604e-05\n",
      "temp_gear_bearing: 1.0728171610267973e-05\n",
      "blade_angle_avg: 0.00012131621800119139\n"
     ]
    }
   ],
   "source": [
    "for ia, attribute in enumerate(attributes):\n",
    "    X_ = np.delete(Y, ia, axis=1)\n",
    "    Y_ = Y[:, ia]\n",
    "    X_train, X_test, y_train, y_test = train_test_split(X_, Y_, test_size=0.2, random_state=42)\n",
    "\n",
    "    xgb=XGBRegressor()\n",
    "    #params={\"n_estimators\":[4,8,16,32,64,128,256,512], \"max_depth\":[4,6,8,10,20,30,50],\"learning_rate\":[0.2,0.5,0.9],\n",
    "    #       \"reg_lambda\":[0,0.1,0.01]}\n",
    "    params={\"n_estimators\":[100], \"max_depth\":[6],\"learning_rate\":[0.5],\n",
    "        \"reg_lambda\":[0.1]}\n",
    "\n",
    "    xgb_cv=GridSearchCV(xgb,params, cv=10)\n",
    "\n",
    "    xgb_cv.fit(X_train, y_train)\n",
    "    score = np.mean((y_test - xgb_cv.predict(X_test))**2)\n",
    "    print(f\"{attribute}: {score}\")"
   ]
  },
  {
   "cell_type": "code",
   "execution_count": 13,
   "metadata": {},
   "outputs": [],
   "source": [
    "from sklearn.model_selection import train_test_split\n",
    "\n",
    "X_train, X_test, y_train, y_test = train_test_split(X, Y, test_size=0.5, random_state=42)"
   ]
  },
  {
   "cell_type": "code",
   "execution_count": 14,
   "metadata": {},
   "outputs": [
    {
     "data": {
      "text/plain": [
       "GridSearchCV(cv=10,\n",
       "             estimator=XGBRegressor(base_score=None, booster=None,\n",
       "                                    callbacks=None, colsample_bylevel=None,\n",
       "                                    colsample_bynode=None,\n",
       "                                    colsample_bytree=None,\n",
       "                                    early_stopping_rounds=None,\n",
       "                                    enable_categorical=False, eval_metric=None,\n",
       "                                    gamma=None, gpu_id=None, grow_policy=None,\n",
       "                                    importance_type=None,\n",
       "                                    interaction_constraints=None,\n",
       "                                    learning_rate=None, max_bin=None,\n",
       "                                    max_cat_to_onehot=None, max_delta_step=None,\n",
       "                                    max_depth=None, max_leaves=None,\n",
       "                                    min_child_weight=None, missing=nan,\n",
       "                                    monotone_constraints=None, n_estimators=100,\n",
       "                                    n_jobs=None, num_parallel_tree=None,\n",
       "                                    predictor=None, random_state=None,\n",
       "                                    reg_alpha=None, reg_lambda=None, ...),\n",
       "             param_grid={'learning_rate': [0.5], 'max_depth': [6],\n",
       "                         'n_estimators': [100], 'reg_lambda': [0.1]})"
      ]
     },
     "execution_count": 14,
     "metadata": {},
     "output_type": "execute_result"
    }
   ],
   "source": [
    "xgb=XGBRegressor()\n",
    "#params={\"n_estimators\":[4,8,16,32,64,128,256,512], \"max_depth\":[4,6,8,10,20,30,50],\"learning_rate\":[0.2,0.5,0.9],\n",
    "#       \"reg_lambda\":[0,0.1,0.01]}\n",
    "params={\"n_estimators\":[100], \"max_depth\":[6],\"learning_rate\":[0.5],\n",
    "       \"reg_lambda\":[0.1]}\n",
    "\n",
    "xgb_cv=GridSearchCV(xgb,params, cv=10)\n",
    "\n",
    "xgb_cv.fit(X_train, y_train)"
   ]
  },
  {
   "cell_type": "code",
   "execution_count": 17,
   "metadata": {},
   "outputs": [
    {
     "data": {
      "text/plain": [
       "1.0971796943675474e-07"
      ]
     },
     "execution_count": 17,
     "metadata": {},
     "output_type": "execute_result"
    }
   ],
   "source": [
    "np.mean((y_test - xgb_cv.predict(X_test))**2)"
   ]
  },
  {
   "cell_type": "code",
   "execution_count": null,
   "metadata": {},
   "outputs": [],
   "source": []
  },
  {
   "cell_type": "code",
   "execution_count": null,
   "metadata": {},
   "outputs": [],
   "source": []
  },
  {
   "cell_type": "code",
   "execution_count": null,
   "metadata": {},
   "outputs": [],
   "source": []
  },
  {
   "cell_type": "markdown",
   "metadata": {},
   "source": [
    "6) xgboost seriously"
   ]
  },
  {
   "cell_type": "code",
   "execution_count": 254,
   "metadata": {},
   "outputs": [],
   "source": [
    "import copy\n",
    "import frogress\n",
    "import datetime as dt\n",
    "\n",
    "class SIB:\n",
    "    def __init__(self, missing_attributes=['wind_speed', 'power', 'rotor_speed', 'generator_speed', 'temp_environment', 'temp_hydraulic_oil', 'temp_gear_bearing', 'blade_angle_avg'], iterations=3, debug=False):\n",
    "        self.missing_attributes = np.asarray(missing_attributes)\n",
    "        self.debug = debug\n",
    "        self.iterations = iterations\n",
    "\n",
    "    def train_xgb(self, df):\n",
    "        # for each parc get the average of each attribute at each time\n",
    "\n",
    "        # get all park ids\n",
    "        self.park_ids = np.unique(df['park_id'])\n",
    "\n",
    "        # preprocessing\n",
    "        self.df_train = copy.deepcopy(df)\n",
    "        self.df_train[\"measured_at\"]=pd.to_datetime(self.df_train.measured_at)\n",
    "        self.df_train[\"week\"]=self.df_train.measured_at.dt.isocalendar().week.astype(int)\n",
    "        self.df_train[\"month\"]=self.df_train.measured_at.dt.month\n",
    "        self.df_train[\"hourofday\"]=self.df_train.measured_at.dt.hour\n",
    "        self.df_train[\"isnight\"]=(self.df_train.hourofday >= 18) | (self.df_train.hourofday <=5)\n",
    "        self.df_train[\"isnoon\"]=(self.df_train.hourofday >= 7) & (self.df_train.hourofday<=14)\n",
    "        self.df_train[\"Error\"]=self.df_train.error_category != \"NO_ERROR\"\n",
    "        self.df_train[\"speed\"]=(self.df_train.rotor_speed+self.df_train.generator_speed)\n",
    "        self.df_train[\"direction\"]=(self.df_train.nacelle_direction+self.df_train.wind_direction)\n",
    "\n",
    "\n",
    "        if self.debug:\n",
    "            self.df_train = self.df_train.iloc[:100]\n",
    "\n",
    "    \n",
    "        # build xgboost for each attribute\n",
    "        self.xgbs = {}\n",
    "        for at in self.missing_attributes:\n",
    "            print(f\"Building xgb for attribute {at}\")\n",
    "            xgb=XGBRegressor()\n",
    "            #params={\"n_estimators\":[4,8,16,32,64,128,256,512], \"max_depth\":[4,6,8,10,20,30,50],\"learning_rate\":[0.2,0.5,0.9],\n",
    "            #       \"reg_lambda\":[0,0.1,0.01]}\n",
    "\n",
    "            # insert best values here!\n",
    "            params={\"n_estimators\":[100], \"max_depth\":[6],\"learning_rate\":[0.5],\n",
    "                \"reg_lambda\":[0.1]}\n",
    "\n",
    "            xgb_cv=GridSearchCV(xgb, params, cv=10)\n",
    "            y = self.df_train[at]\n",
    "            x = self.df_train.drop(columns=[at, 'measured_at', 'error_category', \"index\", 'nacelle_direction', 'wind_direction', 'rotor_speed', 'generator_speed'])\n",
    "            xgb_cv.fit(x, y)\n",
    "\n",
    "            self.xgbs[at] = xgb_cv\n",
    "\n",
    "        del self.df_train\n",
    "\n",
    "    def train_spartial(self, df_miss):\n",
    "\n",
    "        df_miss_ = copy.deepcopy(df_miss)\n",
    "        times = pd.to_datetime(df_miss_[\"measured_at\"]).view(int)/ 10**9 / 60. # in minutes\n",
    "        self.time_zero_point = np.min(times)\n",
    "        self.times = times - self.time_zero_point\n",
    "        df_miss_['date'] = self.times\n",
    "        self.times = np.unique(np.asarray(self.times, dtype=int))\n",
    "\n",
    "        # calculate the averages of the attributes for each park and time    \n",
    "        averages = {}\n",
    "        for park_id in self.park_ids:\n",
    "            print(f\"Building partial interpolator for park {park_id}\")\n",
    "            idx = np.where(df_miss_[\"park_id\"] == park_id)[0]\n",
    "            df_park = df_miss_.iloc[idx]\n",
    "            averages[park_id] = np.zeros((len(self.times), len(self.missing_attributes)))\n",
    "            for idt, time in frogress.bar(enumerate(self.times)):\n",
    "                idx_time = np.where(df_park['date'] == time)[0]\n",
    "                if len(idx_time) == 0:\n",
    "                    averages[park_id][idt] = np.full((len(self.missing_attributes,)), np.nan)\n",
    "                else:\n",
    "                    averages[park_id][idt] = np.nanmean(df_park[self.missing_attributes].iloc[idx_time], axis=0)\n",
    "                if self.debug:\n",
    "                    if idt > 100:\n",
    "                        break\n",
    "        self.averages = averages \n",
    "        del df_miss_\n",
    "\n",
    "\n",
    "    def predict(self, X):\n",
    "        x = copy.deepcopy(X)\n",
    "        x = x.to_frame().T\n",
    "        x = x.astype({'turbine_id' : int, 'power' : float, 'temp_environment' : float, 'temp_hydraulic_oil' : float, 'temp_gear_bearing': float, 'cosphi': float, 'blade_angle_avg': float, 'hydraulic_pressure': float, 'park_id': int, 'rotor_speed': float, 'generator_speed' : float, 'nacelle_direction':float, 'wind_direction': float})\n",
    "\n",
    "        # get missing attributes\n",
    "        check_nans = x.isna()\n",
    "        check_nans = np.asarray(check_nans).reshape(-1)\n",
    "        missing_attributes = list(data_miss.keys()[check_nans])\n",
    "        time = pd.to_datetime(x[\"measured_at\"]).view(int) / 10**9 / 60. # in minutes\n",
    "        time = time - self.time_zero_point\n",
    "        park = x['park_id']\n",
    "\n",
    "        avg = self.averages[int(park)][np.where(np.asarray(self.times) == int(time))[0][0], :]\n",
    "        # replace with initial guess as averages of windpark\n",
    "        for at in missing_attributes:\n",
    "            x[at] = avg[np.where(self.missing_attributes == at)[0][0]]\n",
    "\n",
    "        # preprocessing\n",
    "        temp=pd.to_datetime(x.measured_at)\n",
    "        x[\"week\"]=temp.dt.isocalendar().week.astype(int)\n",
    "        x[\"month\"]=temp.dt.month\n",
    "        x[\"hourofday\"]=temp.dt.hour\n",
    "        x[\"isnight\"]=(x.hourofday >= 18) | (x.hourofday <=5)\n",
    "        x[\"isnoon\"]=(x.hourofday >= 7) & (x.hourofday<=14)\n",
    "        x[\"Error\"]=x.error_category != \"NO_ERROR\"\n",
    "        x[\"speed\"]=(x.rotor_speed+x.generator_speed)\n",
    "        x[\"direction\"]=(x.nacelle_direction+x.wind_direction)\n",
    "\n",
    "        # run xgbs\n",
    "        for iter in range(self.iterations):\n",
    "            for at in missing_attributes:\n",
    "                x[at]= self.xgbs[at].predict(x.drop(columns=[at, 'measured_at', 'error_category', \"index\", 'nacelle_direction', 'wind_direction', 'rotor_speed', 'generator_speed']))\n",
    "        x = x.drop(columns=[\"week\", \"month\", 'hourofday', 'isnight', 'isnoon', 'Error', 'speed', 'direction'])\n",
    "        return x\n"
   ]
  },
  {
   "cell_type": "code",
   "execution_count": 255,
   "metadata": {},
   "outputs": [
    {
     "name": "stdout",
     "output_type": "stream",
     "text": [
      "Building xgb for attribute wind_speed\n",
      "Building xgb for attribute power\n",
      "Building xgb for attribute rotor_speed\n",
      "Building xgb for attribute generator_speed\n",
      "Building xgb for attribute temp_environment\n",
      "Building xgb for attribute temp_hydraulic_oil\n",
      "Building xgb for attribute temp_gear_bearing\n",
      "Building xgb for attribute blade_angle_avg\n",
      "Building spartial interpolator for park 1\n",
      "[..#.......] | Progress: 88 | Time: 0.1s | ETA: --Building spartial interpolator for park 2\n",
      "[....#.....] | Progress: 101 | Time: 3.6s | ETA: --"
     ]
    },
    {
     "data": {
      "text/html": [
       "<div>\n",
       "<style scoped>\n",
       "    .dataframe tbody tr th:only-of-type {\n",
       "        vertical-align: middle;\n",
       "    }\n",
       "\n",
       "    .dataframe tbody tr th {\n",
       "        vertical-align: top;\n",
       "    }\n",
       "\n",
       "    .dataframe thead th {\n",
       "        text-align: right;\n",
       "    }\n",
       "</style>\n",
       "<table border=\"1\" class=\"dataframe\">\n",
       "  <thead>\n",
       "    <tr style=\"text-align: right;\">\n",
       "      <th></th>\n",
       "      <th>index</th>\n",
       "      <th>turbine_id</th>\n",
       "      <th>measured_at</th>\n",
       "      <th>wind_speed</th>\n",
       "      <th>power</th>\n",
       "      <th>nacelle_direction</th>\n",
       "      <th>wind_direction</th>\n",
       "      <th>rotor_speed</th>\n",
       "      <th>generator_speed</th>\n",
       "      <th>temp_environment</th>\n",
       "      <th>temp_hydraulic_oil</th>\n",
       "      <th>temp_gear_bearing</th>\n",
       "      <th>cosphi</th>\n",
       "      <th>blade_angle_avg</th>\n",
       "      <th>hydraulic_pressure</th>\n",
       "      <th>park_id</th>\n",
       "      <th>error_category</th>\n",
       "    </tr>\n",
       "  </thead>\n",
       "  <tbody>\n",
       "    <tr>\n",
       "      <th>315</th>\n",
       "      <td>315</td>\n",
       "      <td>11</td>\n",
       "      <td>2020-01-03 04:30:00+00:00</td>\n",
       "      <td>0.549477</td>\n",
       "      <td>0.40335</td>\n",
       "      <td>205.2</td>\n",
       "      <td>203.0</td>\n",
       "      <td>0.959732</td>\n",
       "      <td>0.802083</td>\n",
       "      <td>4.0</td>\n",
       "      <td>19.0</td>\n",
       "      <td>43.0</td>\n",
       "      <td>0.98</td>\n",
       "      <td>-2.1</td>\n",
       "      <td>189.5</td>\n",
       "      <td>1</td>\n",
       "      <td>NO_ERROR</td>\n",
       "    </tr>\n",
       "  </tbody>\n",
       "</table>\n",
       "</div>"
      ],
      "text/plain": [
       "    index  turbine_id                measured_at  wind_speed    power  \\\n",
       "315   315          11  2020-01-03 04:30:00+00:00    0.549477  0.40335   \n",
       "\n",
       "     nacelle_direction  wind_direction  rotor_speed  generator_speed  \\\n",
       "315              205.2           203.0     0.959732         0.802083   \n",
       "\n",
       "     temp_environment  temp_hydraulic_oil  temp_gear_bearing  cosphi  \\\n",
       "315               4.0                19.0               43.0    0.98   \n",
       "\n",
       "     blade_angle_avg  hydraulic_pressure  park_id error_category  \n",
       "315             -2.1               189.5        1       NO_ERROR  "
      ]
     },
     "execution_count": 255,
     "metadata": {},
     "output_type": "execute_result"
    }
   ],
   "source": [
    "sib = SIB(debug=True)\n",
    "sib.train_xgb(data_full)\n",
    "sib.train_spartial(data_miss)\n",
    "sib.predict(data_miss.iloc[315])"
   ]
  },
  {
   "cell_type": "code",
   "execution_count": null,
   "metadata": {},
   "outputs": [],
   "source": []
  }
 ],
 "metadata": {
  "kernelspec": {
   "display_name": "venv_3.10",
   "language": "python",
   "name": "venv_3.10"
  },
  "language_info": {
   "codemirror_mode": {
    "name": "ipython",
    "version": 3
   },
   "file_extension": ".py",
   "mimetype": "text/x-python",
   "name": "python",
   "nbconvert_exporter": "python",
   "pygments_lexer": "ipython3",
   "version": "3.10.4"
  },
  "orig_nbformat": 4
 },
 "nbformat": 4,
 "nbformat_minor": 2
}
