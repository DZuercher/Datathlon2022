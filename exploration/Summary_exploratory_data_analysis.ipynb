{
 "cells": [
  {
   "cell_type": "markdown",
   "id": "3c0e66e8",
   "metadata": {},
   "source": [
    "First, we import the needed the Python packages for exploring, as well as visualising the data."
   ]
  },
  {
   "cell_type": "code",
   "execution_count": 1,
   "id": "95cadfc0",
   "metadata": {},
   "outputs": [
    {
     "name": "stderr",
     "output_type": "stream",
     "text": [
      "Missing colon in file '/Users/christianelorenz/.matplotlib/matplotlibrc', line 1 ('cat ~/.matplotlib/matplotlibrc')\n"
     ]
    }
   ],
   "source": [
    "import pandas as pd\n",
    "import numpy as np\n",
    "import matplotlib.pyplot as plt\n",
    "import seaborn as sns"
   ]
  },
  {
   "cell_type": "code",
   "execution_count": null,
   "id": "9ec4289c",
   "metadata": {},
   "outputs": [],
   "source": []
  }
 ],
 "metadata": {
  "kernelspec": {
   "display_name": "Python 3 (ipykernel)",
   "language": "python",
   "name": "python3"
  },
  "language_info": {
   "codemirror_mode": {
    "name": "ipython",
    "version": 3
   },
   "file_extension": ".py",
   "mimetype": "text/x-python",
   "name": "python",
   "nbconvert_exporter": "python",
   "pygments_lexer": "ipython3",
   "version": "3.9.1"
  }
 },
 "nbformat": 4,
 "nbformat_minor": 5
}
